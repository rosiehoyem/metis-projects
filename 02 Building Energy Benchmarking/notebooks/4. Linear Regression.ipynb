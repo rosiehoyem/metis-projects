{
 "cells": [
  {
   "cell_type": "code",
   "execution_count": 6,
   "metadata": {
    "collapsed": true
   },
   "outputs": [],
   "source": [
    "%matplotlib inline\n",
    "\n",
    "from __future__ import print_function\n",
    "from statsmodels.compat import lzip\n",
    "import statsmodels\n",
    "import numpy as np\n",
    "import pandas as pd\n",
    "import statsmodels.api as sm\n",
    "import statsmodels.formula.api as smf\n",
    "import statsmodels.stats.api as sms\n",
    "from sklearn.model_selection import train_test_split\n",
    "import matplotlib.pyplot as plt\n",
    "import seaborn as sns\n",
    "from scipy import stats\n",
    "\n",
    "from statsmodels.stats.outliers_influence import OLSInfluence"
   ]
  },
  {
   "cell_type": "code",
   "execution_count": 99,
   "metadata": {
    "collapsed": true
   },
   "outputs": [],
   "source": [
    "def univariate_analysis(series):\n",
    "    print(series.describe())\n",
    "    print(\"Outliers: \" + str(len(outliers(series))))\n",
    "    normality_test(series)\n",
    "    print('\\n')\n",
    "    \n",
    "def outliers(series):\n",
    "    std = series.std()\n",
    "    mean = series.mean()\n",
    "    low = mean - (3*std)\n",
    "    high = mean + (3*std)\n",
    "    outliers = []\n",
    "    for x in series:\n",
    "        if x < low or x > high:\n",
    "            outliers.append(x)\n",
    "    return outliers  \n",
    "\n",
    "def drop_outliers(df, col):\n",
    "    std = df[col].std()\n",
    "    mean = df[col].mean()\n",
    "    low = mean - (3*std)\n",
    "    high = mean + (3*std)\n",
    "    for i, row in df.iterrows():\n",
    "        if row[col] < low or row[col] > high:\n",
    "            df.drop(i)\n",
    "    return df\n",
    "    \n",
    "\n",
    "def univariate_plots(series, col):\n",
    "    snan = series.dropna() \n",
    "    plt.figure(figsize=(20,5))\n",
    "    \n",
    "    plt.subplot(1, 2, 1)\n",
    "    plt.hist(snan)\n",
    "    plt.title(col + \" Histogram\")\n",
    "    \n",
    "    plt.subplot(1, 2, 2)\n",
    "    plt.boxplot(snan)\n",
    "    plt.title(col + \" Box Plot\")\n",
    "    \n",
    "def normality_test(series):\n",
    "    snan = series.dropna()\n",
    "    name = ['Jarque-Bera', 'Chi^2 two-tail prob.', 'Skew', 'Kurtosis']\n",
    "    test = sms.jarque_bera(snan)\n",
    "    results = lzip(name, test)\n",
    "    if results[1][1] < .05:\n",
    "        normal = \"No\"\n",
    "    else: \n",
    "        normal = \"Yes\"\n",
    "    print(\"Normal?: \" + normal)\n",
    "    for result in results:\n",
    "        print(result[0] + \": \" + str(result[1]))"
   ]
  },
  {
   "cell_type": "code",
   "execution_count": 7,
   "metadata": {
    "collapsed": true
   },
   "outputs": [],
   "source": [
    "# R2: SSE/SSS is the portion of variation explained by the model\n",
    "\n",
    "# Prob (F-statisic): If p-value < 0.05, we\tcan\treject the null\thypothesis.\n",
    "\n",
    "# P >|t|: if p-value < 0.05, we can reject the null hypothesis: This variable does contribute to this model\n",
    "\n",
    "# Prob(Omnibus): The p-value for this  test. If  p-value < 0.05, we  reject  the null  hypothesis: \n",
    "# ε does  not exactly follow  the normal  distribution that  we  assumed. \n",
    "\n",
    "# Prob(Omnibus):  The p-value for this  test.     \n",
    "\n",
    "# Jaque Beara: Normality Test\n",
    "\n",
    "# Prob(JB) Null  hypothesis:  ε is  normally  distributed. \n",
    "\n",
    "# Skewness and Kurtosis: Idea is we  are looking for a skewness coeff.  ~ 0,  and Kurtosis  ~ 3. JB  tests if  those conditions are held  against alternatives.  \n",
    "\n",
    "# Condition Number: Note  that  is  the condi<on  number  becomes quite large,  then  this  implies that  the matrix  is  ill-posed   (does not have  a unique, well-defined  solution). This  may be  due to  multicollinear relationships  between independent variables."
   ]
  },
  {
   "cell_type": "code",
   "execution_count": 8,
   "metadata": {
    "collapsed": false
   },
   "outputs": [
    {
     "name": "stdout",
     "output_type": "stream",
     "text": [
      "<class 'pandas.core.frame.DataFrame'>\n",
      "Int64Index: 390 entries, 0 to 743\n",
      "Data columns (total 21 columns):\n",
      "energy_star_score                          390 non-null int64\n",
      "building_floor_area                        390 non-null int64\n",
      "parking_floor_area                         390 non-null int64\n",
      "total_ghg_emissions                        390 non-null int64\n",
      "site_eui                                   390 non-null int64\n",
      "weather_normalized_site_eui                390 non-null int64\n",
      "source_eui                                 390 non-null int64\n",
      "weather_normalized_source_eui              390 non-null int64\n",
      "water_use                                  390 non-null int64\n",
      "property_id                                390 non-null int64\n",
      "EMV_TOTAL                                  390 non-null float64\n",
      "TAX_CAPAC                                  390 non-null float64\n",
      "TOTAL_TAX                                  390 non-null float64\n",
      "FIN_SQ_FT                                  390 non-null int64\n",
      "YEAR_BUILT                                 390 non-null int64\n",
      "est_val_per_sqft                           390 non-null float64\n",
      "Intercept                                  390 non-null float64\n",
      "USE1_DESC[T.Condo Garage/Miscellaneous]    390 non-null float64\n",
      "USE1_DESC[T.Cooperative]                   390 non-null float64\n",
      "USE1_DESC[T.Industrial]                    390 non-null float64\n",
      "USE1_DESC[T.Other]                         390 non-null float64\n",
      "dtypes: float64(9), int64(12)\n",
      "memory usage: 67.0 KB\n"
     ]
    }
   ],
   "source": [
    "# Load the data in\n",
    "import pickle\n",
    "\n",
    "with open(\"../data/processed/0202_all_data_wdummy.pkl\", 'rb') as picklefile: \n",
    "    df = pickle.load(picklefile)\n",
    "\n",
    "df.info()"
   ]
  },
  {
   "cell_type": "code",
   "execution_count": 9,
   "metadata": {
    "collapsed": false
   },
   "outputs": [
    {
     "data": {
      "text/plain": [
       "Index(['energy_star_score', 'building_floor_area', 'parking_floor_area',\n",
       "       'total_ghg_emissions', 'site_eui', 'weather_normalized_site_eui',\n",
       "       'source_eui', 'weather_normalized_source_eui', 'water_use',\n",
       "       'property_id', 'EMV_TOTAL', 'TAX_CAPAC', 'TOTAL_TAX', 'FIN_SQ_FT',\n",
       "       'YEAR_BUILT', 'est_val_per_sqft', 'Intercept',\n",
       "       'USE1_DESC[T.Condo Garage/Miscellaneous]', 'USE1_DESC[T.Cooperative]',\n",
       "       'USE1_DESC[T.Industrial]', 'USE1_DESC[T.Other]'],\n",
       "      dtype='object')"
      ]
     },
     "execution_count": 9,
     "metadata": {},
     "output_type": "execute_result"
    }
   ],
   "source": [
    "df.columns"
   ]
  },
  {
   "cell_type": "code",
   "execution_count": 10,
   "metadata": {
    "collapsed": true
   },
   "outputs": [],
   "source": [
    "df['tax_per_sqft'] = df['TOTAL_TAX']/df['building_floor_area']\n",
    "df['ghg_emissions_per_sqft'] = df['total_ghg_emissions']/df['building_floor_area']\n",
    "df['year_built_adjusted'] = df['YEAR_BUILT'] - 1880\n",
    "# df['emv_per_sqft'] = df['EMV_TOTAL']/df['FIN_SQ_FT']"
   ]
  },
  {
   "cell_type": "code",
   "execution_count": 11,
   "metadata": {
    "collapsed": false
   },
   "outputs": [
    {
     "data": {
      "text/html": [
       "<div>\n",
       "<table border=\"1\" class=\"dataframe\">\n",
       "  <thead>\n",
       "    <tr style=\"text-align: right;\">\n",
       "      <th></th>\n",
       "      <th>energy_star_score</th>\n",
       "      <th>building_floor_area</th>\n",
       "      <th>parking_floor_area</th>\n",
       "      <th>total_ghg_emissions</th>\n",
       "      <th>site_eui</th>\n",
       "      <th>weather_normalized_site_eui</th>\n",
       "      <th>source_eui</th>\n",
       "      <th>weather_normalized_source_eui</th>\n",
       "      <th>water_use</th>\n",
       "      <th>property_id</th>\n",
       "      <th>...</th>\n",
       "      <th>YEAR_BUILT</th>\n",
       "      <th>est_val_per_sqft</th>\n",
       "      <th>Intercept</th>\n",
       "      <th>USE1_DESC[T.Condo Garage/Miscellaneous]</th>\n",
       "      <th>USE1_DESC[T.Cooperative]</th>\n",
       "      <th>USE1_DESC[T.Industrial]</th>\n",
       "      <th>USE1_DESC[T.Other]</th>\n",
       "      <th>tax_per_sqft</th>\n",
       "      <th>ghg_emissions_per_sqft</th>\n",
       "      <th>year_built_adjusted</th>\n",
       "    </tr>\n",
       "  </thead>\n",
       "  <tbody>\n",
       "    <tr>\n",
       "      <th>0</th>\n",
       "      <td>36</td>\n",
       "      <td>62400</td>\n",
       "      <td>0</td>\n",
       "      <td>971</td>\n",
       "      <td>115</td>\n",
       "      <td>118</td>\n",
       "      <td>251</td>\n",
       "      <td>252</td>\n",
       "      <td>708</td>\n",
       "      <td>2302924430394</td>\n",
       "      <td>...</td>\n",
       "      <td>2012</td>\n",
       "      <td>162.099359</td>\n",
       "      <td>1.0</td>\n",
       "      <td>0.0</td>\n",
       "      <td>0.0</td>\n",
       "      <td>0.0</td>\n",
       "      <td>0.0</td>\n",
       "      <td>6.484135</td>\n",
       "      <td>0.015561</td>\n",
       "      <td>132</td>\n",
       "    </tr>\n",
       "    <tr>\n",
       "      <th>2</th>\n",
       "      <td>76</td>\n",
       "      <td>60640</td>\n",
       "      <td>62000</td>\n",
       "      <td>268</td>\n",
       "      <td>50</td>\n",
       "      <td>54</td>\n",
       "      <td>77</td>\n",
       "      <td>81</td>\n",
       "      <td>674</td>\n",
       "      <td>2202824340118</td>\n",
       "      <td>...</td>\n",
       "      <td>1959</td>\n",
       "      <td>0.362797</td>\n",
       "      <td>1.0</td>\n",
       "      <td>0.0</td>\n",
       "      <td>0.0</td>\n",
       "      <td>0.0</td>\n",
       "      <td>0.0</td>\n",
       "      <td>0.067167</td>\n",
       "      <td>0.004420</td>\n",
       "      <td>79</td>\n",
       "    </tr>\n",
       "    <tr>\n",
       "      <th>3</th>\n",
       "      <td>89</td>\n",
       "      <td>60528</td>\n",
       "      <td>0</td>\n",
       "      <td>504</td>\n",
       "      <td>74</td>\n",
       "      <td>77</td>\n",
       "      <td>136</td>\n",
       "      <td>140</td>\n",
       "      <td>414</td>\n",
       "      <td>2402924240052</td>\n",
       "      <td>...</td>\n",
       "      <td>1960</td>\n",
       "      <td>25.475813</td>\n",
       "      <td>1.0</td>\n",
       "      <td>0.0</td>\n",
       "      <td>1.0</td>\n",
       "      <td>0.0</td>\n",
       "      <td>0.0</td>\n",
       "      <td>0.265233</td>\n",
       "      <td>0.008327</td>\n",
       "      <td>80</td>\n",
       "    </tr>\n",
       "    <tr>\n",
       "      <th>4</th>\n",
       "      <td>89</td>\n",
       "      <td>60528</td>\n",
       "      <td>0</td>\n",
       "      <td>504</td>\n",
       "      <td>74</td>\n",
       "      <td>77</td>\n",
       "      <td>136</td>\n",
       "      <td>140</td>\n",
       "      <td>414</td>\n",
       "      <td>2402924240176</td>\n",
       "      <td>...</td>\n",
       "      <td>1962</td>\n",
       "      <td>0.916931</td>\n",
       "      <td>1.0</td>\n",
       "      <td>0.0</td>\n",
       "      <td>1.0</td>\n",
       "      <td>0.0</td>\n",
       "      <td>0.0</td>\n",
       "      <td>0.009549</td>\n",
       "      <td>0.008327</td>\n",
       "      <td>82</td>\n",
       "    </tr>\n",
       "    <tr>\n",
       "      <th>5</th>\n",
       "      <td>89</td>\n",
       "      <td>60528</td>\n",
       "      <td>0</td>\n",
       "      <td>504</td>\n",
       "      <td>74</td>\n",
       "      <td>77</td>\n",
       "      <td>136</td>\n",
       "      <td>140</td>\n",
       "      <td>414</td>\n",
       "      <td>2402924240177</td>\n",
       "      <td>...</td>\n",
       "      <td>1962</td>\n",
       "      <td>0.916931</td>\n",
       "      <td>1.0</td>\n",
       "      <td>0.0</td>\n",
       "      <td>1.0</td>\n",
       "      <td>0.0</td>\n",
       "      <td>0.0</td>\n",
       "      <td>0.009549</td>\n",
       "      <td>0.008327</td>\n",
       "      <td>82</td>\n",
       "    </tr>\n",
       "  </tbody>\n",
       "</table>\n",
       "<p>5 rows × 24 columns</p>\n",
       "</div>"
      ],
      "text/plain": [
       "   energy_star_score  building_floor_area  parking_floor_area  \\\n",
       "0                 36                62400                   0   \n",
       "2                 76                60640               62000   \n",
       "3                 89                60528                   0   \n",
       "4                 89                60528                   0   \n",
       "5                 89                60528                   0   \n",
       "\n",
       "   total_ghg_emissions  site_eui  weather_normalized_site_eui  source_eui  \\\n",
       "0                  971       115                          118         251   \n",
       "2                  268        50                           54          77   \n",
       "3                  504        74                           77         136   \n",
       "4                  504        74                           77         136   \n",
       "5                  504        74                           77         136   \n",
       "\n",
       "   weather_normalized_source_eui  water_use    property_id  \\\n",
       "0                            252        708  2302924430394   \n",
       "2                             81        674  2202824340118   \n",
       "3                            140        414  2402924240052   \n",
       "4                            140        414  2402924240176   \n",
       "5                            140        414  2402924240177   \n",
       "\n",
       "          ...           YEAR_BUILT  est_val_per_sqft  Intercept  \\\n",
       "0         ...                 2012        162.099359        1.0   \n",
       "2         ...                 1959          0.362797        1.0   \n",
       "3         ...                 1960         25.475813        1.0   \n",
       "4         ...                 1962          0.916931        1.0   \n",
       "5         ...                 1962          0.916931        1.0   \n",
       "\n",
       "   USE1_DESC[T.Condo Garage/Miscellaneous]  USE1_DESC[T.Cooperative]  \\\n",
       "0                                      0.0                       0.0   \n",
       "2                                      0.0                       0.0   \n",
       "3                                      0.0                       1.0   \n",
       "4                                      0.0                       1.0   \n",
       "5                                      0.0                       1.0   \n",
       "\n",
       "   USE1_DESC[T.Industrial]  USE1_DESC[T.Other]  tax_per_sqft  \\\n",
       "0                      0.0                 0.0      6.484135   \n",
       "2                      0.0                 0.0      0.067167   \n",
       "3                      0.0                 0.0      0.265233   \n",
       "4                      0.0                 0.0      0.009549   \n",
       "5                      0.0                 0.0      0.009549   \n",
       "\n",
       "   ghg_emissions_per_sqft  year_built_adjusted  \n",
       "0                0.015561                  132  \n",
       "2                0.004420                   79  \n",
       "3                0.008327                   80  \n",
       "4                0.008327                   82  \n",
       "5                0.008327                   82  \n",
       "\n",
       "[5 rows x 24 columns]"
      ]
     },
     "execution_count": 11,
     "metadata": {},
     "output_type": "execute_result"
    }
   ],
   "source": [
    "df.head()"
   ]
  },
  {
   "cell_type": "code",
   "execution_count": 91,
   "metadata": {
    "collapsed": false
   },
   "outputs": [],
   "source": [
    "subset = ['energy_star_score', 'building_floor_area', 'weather_normalized_site_eui',\n",
    "       'weather_normalized_source_eui', 'water_use', 'EMV_TOTAL','year_built_adjusted',\n",
    "       'est_val_per_sqft', 'tax_per_sqft', 'Intercept',\n",
    "       'USE1_DESC[T.Condo Garage/Miscellaneous]', 'USE1_DESC[T.Cooperative]',\n",
    "       'USE1_DESC[T.Industrial]', 'USE1_DESC[T.Other]']\n",
    "subset_df = df[subset]"
   ]
  },
  {
   "cell_type": "code",
   "execution_count": 92,
   "metadata": {
    "collapsed": false
   },
   "outputs": [
    {
     "data": {
      "text/html": [
       "<div>\n",
       "<table border=\"1\" class=\"dataframe\">\n",
       "  <thead>\n",
       "    <tr style=\"text-align: right;\">\n",
       "      <th></th>\n",
       "      <th>energy_star_score</th>\n",
       "      <th>building_floor_area</th>\n",
       "      <th>weather_normalized_site_eui</th>\n",
       "      <th>weather_normalized_source_eui</th>\n",
       "      <th>water_use</th>\n",
       "      <th>EMV_TOTAL</th>\n",
       "      <th>year_built_adjusted</th>\n",
       "      <th>est_val_per_sqft</th>\n",
       "      <th>tax_per_sqft</th>\n",
       "      <th>Intercept</th>\n",
       "      <th>USE1_DESC[T.Condo Garage/Miscellaneous]</th>\n",
       "      <th>USE1_DESC[T.Cooperative]</th>\n",
       "      <th>USE1_DESC[T.Industrial]</th>\n",
       "      <th>USE1_DESC[T.Other]</th>\n",
       "    </tr>\n",
       "  </thead>\n",
       "  <tbody>\n",
       "    <tr>\n",
       "      <th>0</th>\n",
       "      <td>36</td>\n",
       "      <td>62400</td>\n",
       "      <td>118</td>\n",
       "      <td>252</td>\n",
       "      <td>708</td>\n",
       "      <td>10115000.0</td>\n",
       "      <td>132</td>\n",
       "      <td>162.099359</td>\n",
       "      <td>6.484135</td>\n",
       "      <td>1.0</td>\n",
       "      <td>0.0</td>\n",
       "      <td>0.0</td>\n",
       "      <td>0.0</td>\n",
       "      <td>0.0</td>\n",
       "    </tr>\n",
       "    <tr>\n",
       "      <th>2</th>\n",
       "      <td>76</td>\n",
       "      <td>60640</td>\n",
       "      <td>54</td>\n",
       "      <td>81</td>\n",
       "      <td>674</td>\n",
       "      <td>22000.0</td>\n",
       "      <td>79</td>\n",
       "      <td>0.362797</td>\n",
       "      <td>0.067167</td>\n",
       "      <td>1.0</td>\n",
       "      <td>0.0</td>\n",
       "      <td>0.0</td>\n",
       "      <td>0.0</td>\n",
       "      <td>0.0</td>\n",
       "    </tr>\n",
       "    <tr>\n",
       "      <th>3</th>\n",
       "      <td>89</td>\n",
       "      <td>60528</td>\n",
       "      <td>77</td>\n",
       "      <td>140</td>\n",
       "      <td>414</td>\n",
       "      <td>1542000.0</td>\n",
       "      <td>80</td>\n",
       "      <td>25.475813</td>\n",
       "      <td>0.265233</td>\n",
       "      <td>1.0</td>\n",
       "      <td>0.0</td>\n",
       "      <td>1.0</td>\n",
       "      <td>0.0</td>\n",
       "      <td>0.0</td>\n",
       "    </tr>\n",
       "    <tr>\n",
       "      <th>4</th>\n",
       "      <td>89</td>\n",
       "      <td>60528</td>\n",
       "      <td>77</td>\n",
       "      <td>140</td>\n",
       "      <td>414</td>\n",
       "      <td>55500.0</td>\n",
       "      <td>82</td>\n",
       "      <td>0.916931</td>\n",
       "      <td>0.009549</td>\n",
       "      <td>1.0</td>\n",
       "      <td>0.0</td>\n",
       "      <td>1.0</td>\n",
       "      <td>0.0</td>\n",
       "      <td>0.0</td>\n",
       "    </tr>\n",
       "    <tr>\n",
       "      <th>5</th>\n",
       "      <td>89</td>\n",
       "      <td>60528</td>\n",
       "      <td>77</td>\n",
       "      <td>140</td>\n",
       "      <td>414</td>\n",
       "      <td>55500.0</td>\n",
       "      <td>82</td>\n",
       "      <td>0.916931</td>\n",
       "      <td>0.009549</td>\n",
       "      <td>1.0</td>\n",
       "      <td>0.0</td>\n",
       "      <td>1.0</td>\n",
       "      <td>0.0</td>\n",
       "      <td>0.0</td>\n",
       "    </tr>\n",
       "  </tbody>\n",
       "</table>\n",
       "</div>"
      ],
      "text/plain": [
       "   energy_star_score  building_floor_area  weather_normalized_site_eui  \\\n",
       "0                 36                62400                          118   \n",
       "2                 76                60640                           54   \n",
       "3                 89                60528                           77   \n",
       "4                 89                60528                           77   \n",
       "5                 89                60528                           77   \n",
       "\n",
       "   weather_normalized_source_eui  water_use   EMV_TOTAL  year_built_adjusted  \\\n",
       "0                            252        708  10115000.0                  132   \n",
       "2                             81        674     22000.0                   79   \n",
       "3                            140        414   1542000.0                   80   \n",
       "4                            140        414     55500.0                   82   \n",
       "5                            140        414     55500.0                   82   \n",
       "\n",
       "   est_val_per_sqft  tax_per_sqft  Intercept  \\\n",
       "0        162.099359      6.484135        1.0   \n",
       "2          0.362797      0.067167        1.0   \n",
       "3         25.475813      0.265233        1.0   \n",
       "4          0.916931      0.009549        1.0   \n",
       "5          0.916931      0.009549        1.0   \n",
       "\n",
       "   USE1_DESC[T.Condo Garage/Miscellaneous]  USE1_DESC[T.Cooperative]  \\\n",
       "0                                      0.0                       0.0   \n",
       "2                                      0.0                       0.0   \n",
       "3                                      0.0                       1.0   \n",
       "4                                      0.0                       1.0   \n",
       "5                                      0.0                       1.0   \n",
       "\n",
       "   USE1_DESC[T.Industrial]  USE1_DESC[T.Other]  \n",
       "0                      0.0                 0.0  \n",
       "2                      0.0                 0.0  \n",
       "3                      0.0                 0.0  \n",
       "4                      0.0                 0.0  \n",
       "5                      0.0                 0.0  "
      ]
     },
     "execution_count": 92,
     "metadata": {},
     "output_type": "execute_result"
    }
   ],
   "source": [
    "subset_df.head()"
   ]
  },
  {
   "cell_type": "code",
   "execution_count": 93,
   "metadata": {
    "collapsed": false
   },
   "outputs": [],
   "source": [
    "# Remove outliers\n",
    "for col in subset_df.columns:\n",
    "    subset_df = subset_df[np.abs(subset_df[col]-df[col].mean())<=(3*subset_df[col].std())]"
   ]
  },
  {
   "cell_type": "code",
   "execution_count": 94,
   "metadata": {
    "collapsed": false
   },
   "outputs": [
    {
     "name": "stdout",
     "output_type": "stream",
     "text": [
      "<class 'pandas.core.frame.DataFrame'>\n",
      "Int64Index: 310 entries, 2 to 743\n",
      "Data columns (total 14 columns):\n",
      "energy_star_score                          310 non-null int64\n",
      "building_floor_area                        310 non-null int64\n",
      "weather_normalized_site_eui                310 non-null int64\n",
      "weather_normalized_source_eui              310 non-null int64\n",
      "water_use                                  310 non-null int64\n",
      "EMV_TOTAL                                  310 non-null float64\n",
      "year_built_adjusted                        310 non-null int64\n",
      "est_val_per_sqft                           310 non-null float64\n",
      "tax_per_sqft                               310 non-null float64\n",
      "Intercept                                  310 non-null float64\n",
      "USE1_DESC[T.Condo Garage/Miscellaneous]    310 non-null float64\n",
      "USE1_DESC[T.Cooperative]                   310 non-null float64\n",
      "USE1_DESC[T.Industrial]                    310 non-null float64\n",
      "USE1_DESC[T.Other]                         310 non-null float64\n",
      "dtypes: float64(8), int64(6)\n",
      "memory usage: 36.3 KB\n"
     ]
    }
   ],
   "source": [
    "subset_df.info()"
   ]
  },
  {
   "cell_type": "code",
   "execution_count": 95,
   "metadata": {
    "collapsed": true
   },
   "outputs": [],
   "source": [
    "# Remove NaN\n",
    "\n",
    "subset_df = subset_df.dropna()"
   ]
  },
  {
   "cell_type": "code",
   "execution_count": 100,
   "metadata": {
    "collapsed": false
   },
   "outputs": [
    {
     "data": {
      "text/plain": [
       "[30060000.0, 23000000.0, 40500000.0, 37670000.0, 24218000.0, 58330000.0]"
      ]
     },
     "execution_count": 100,
     "metadata": {},
     "output_type": "execute_result"
    }
   ],
   "source": [
    "subset_df = drop_outliers(subset_df, 'EMV_TOTAL')\n",
    "\n",
    "outliers(subset_df.EMV_TOTAL)"
   ]
  },
  {
   "cell_type": "code",
   "execution_count": 84,
   "metadata": {
    "collapsed": true
   },
   "outputs": [],
   "source": [
    "# Define target and features variables\n",
    "\n",
    "X = subset_df.ix[:,1:]\n",
    "y = subset_df['energy_star_score']\n",
    "\n",
    "X_train, X_test, y_train, y_test = train_test_split(X, y, test_size=0.3, random_state=4444)"
   ]
  },
  {
   "cell_type": "code",
   "execution_count": 46,
   "metadata": {
    "collapsed": false
   },
   "outputs": [
    {
     "name": "stderr",
     "output_type": "stream",
     "text": [
      "/Users/rosiehoyem/anaconda2/envs/py35/lib/python3.5/site-packages/statsmodels/regression/linear_model.py:1263: RuntimeWarning: divide by zero encountered in double_scalars\n",
      "  return np.sqrt(eigvals[0]/eigvals[-1])\n",
      "/Users/rosiehoyem/anaconda2/envs/py35/lib/python3.5/site-packages/statsmodels/base/model.py:978: RuntimeWarning: invalid value encountered in true_divide\n",
      "  return self.params / self.bse\n",
      "/Users/rosiehoyem/anaconda2/envs/py35/lib/python3.5/site-packages/scipy/stats/_distn_infrastructure.py:875: RuntimeWarning: invalid value encountered in greater\n",
      "  return (self.a < x) & (x < self.b)\n",
      "/Users/rosiehoyem/anaconda2/envs/py35/lib/python3.5/site-packages/scipy/stats/_distn_infrastructure.py:875: RuntimeWarning: invalid value encountered in less\n",
      "  return (self.a < x) & (x < self.b)\n",
      "/Users/rosiehoyem/anaconda2/envs/py35/lib/python3.5/site-packages/scipy/stats/_distn_infrastructure.py:1814: RuntimeWarning: invalid value encountered in less_equal\n",
      "  cond2 = cond0 & (x <= self.a)\n"
     ]
    },
    {
     "data": {
      "text/html": [
       "<table class=\"simpletable\">\n",
       "<caption>OLS Regression Results</caption>\n",
       "<tr>\n",
       "  <th>Dep. Variable:</th>    <td>energy_star_score</td> <th>  R-squared:         </th> <td>   0.837</td> \n",
       "</tr>\n",
       "<tr>\n",
       "  <th>Model:</th>                   <td>OLS</td>        <th>  Adj. R-squared:    </th> <td>   0.832</td> \n",
       "</tr>\n",
       "<tr>\n",
       "  <th>Method:</th>             <td>Least Squares</td>   <th>  F-statistic:       </th> <td>   171.2</td> \n",
       "</tr>\n",
       "<tr>\n",
       "  <th>Date:</th>             <td>Mon, 20 Mar 2017</td>  <th>  Prob (F-statistic):</th> <td>1.32e-112</td>\n",
       "</tr>\n",
       "<tr>\n",
       "  <th>Time:</th>                 <td>11:31:59</td>      <th>  Log-Likelihood:    </th> <td> -1259.0</td> \n",
       "</tr>\n",
       "<tr>\n",
       "  <th>No. Observations:</th>      <td>   310</td>       <th>  AIC:               </th> <td>   2538.</td> \n",
       "</tr>\n",
       "<tr>\n",
       "  <th>Df Residuals:</th>          <td>   300</td>       <th>  BIC:               </th> <td>   2575.</td> \n",
       "</tr>\n",
       "<tr>\n",
       "  <th>Df Model:</th>              <td>     9</td>       <th>                     </th>     <td> </td>    \n",
       "</tr>\n",
       "<tr>\n",
       "  <th>Covariance Type:</th>      <td>nonrobust</td>     <th>                     </th>     <td> </td>    \n",
       "</tr>\n",
       "</table>\n",
       "<table class=\"simpletable\">\n",
       "<tr>\n",
       "                     <td></td>                        <th>coef</th>     <th>std err</th>      <th>t</th>      <th>P>|t|</th> <th>[95.0% Conf. Int.]</th> \n",
       "</tr>\n",
       "<tr>\n",
       "  <th>building_floor_area</th>                     <td> 8.273e-05</td> <td> 6.67e-06</td> <td>   12.406</td> <td> 0.000</td> <td> 6.96e-05  9.59e-05</td>\n",
       "</tr>\n",
       "<tr>\n",
       "  <th>weather_normalized_site_eui</th>             <td>    0.3513</td> <td>    0.065</td> <td>    5.412</td> <td> 0.000</td> <td>    0.224     0.479</td>\n",
       "</tr>\n",
       "<tr>\n",
       "  <th>weather_normalized_source_eui</th>           <td>   -0.3998</td> <td>    0.029</td> <td>  -13.760</td> <td> 0.000</td> <td>   -0.457    -0.343</td>\n",
       "</tr>\n",
       "<tr>\n",
       "  <th>water_use</th>                               <td>   -0.0031</td> <td>    0.001</td> <td>   -6.130</td> <td> 0.000</td> <td>   -0.004    -0.002</td>\n",
       "</tr>\n",
       "<tr>\n",
       "  <th>EMV_TOTAL</th>                               <td>-6.178e-07</td> <td> 2.19e-07</td> <td>   -2.816</td> <td> 0.005</td> <td>-1.05e-06 -1.86e-07</td>\n",
       "</tr>\n",
       "<tr>\n",
       "  <th>year_built_adjusted</th>                     <td>    0.0540</td> <td>    0.031</td> <td>    1.734</td> <td> 0.084</td> <td>   -0.007     0.115</td>\n",
       "</tr>\n",
       "<tr>\n",
       "  <th>est_val_per_sqft</th>                        <td>   -0.5234</td> <td>    0.337</td> <td>   -1.554</td> <td> 0.121</td> <td>   -1.186     0.139</td>\n",
       "</tr>\n",
       "<tr>\n",
       "  <th>tax_per_sqft</th>                            <td>   20.9382</td> <td>    8.091</td> <td>    2.588</td> <td> 0.010</td> <td>    5.015    36.861</td>\n",
       "</tr>\n",
       "<tr>\n",
       "  <th>Intercept</th>                               <td>   93.7733</td> <td>    4.574</td> <td>   20.499</td> <td> 0.000</td> <td>   84.771   102.775</td>\n",
       "</tr>\n",
       "<tr>\n",
       "  <th>USE1_DESC[T.Condo Garage/Miscellaneous]</th> <td>   -2.5550</td> <td>    2.860</td> <td>   -0.893</td> <td> 0.372</td> <td>   -8.183     3.073</td>\n",
       "</tr>\n",
       "<tr>\n",
       "  <th>USE1_DESC[T.Cooperative]</th>                <td>         0</td> <td>        0</td> <td>      nan</td> <td>   nan</td> <td>        0         0</td>\n",
       "</tr>\n",
       "<tr>\n",
       "  <th>USE1_DESC[T.Industrial]</th>                 <td>         0</td> <td>        0</td> <td>      nan</td> <td>   nan</td> <td>        0         0</td>\n",
       "</tr>\n",
       "<tr>\n",
       "  <th>USE1_DESC[T.Other]</th>                      <td>         0</td> <td>        0</td> <td>      nan</td> <td>   nan</td> <td>        0         0</td>\n",
       "</tr>\n",
       "</table>\n",
       "<table class=\"simpletable\">\n",
       "<tr>\n",
       "  <th>Omnibus:</th>       <td>75.488</td> <th>  Durbin-Watson:     </th> <td>   1.761</td> \n",
       "</tr>\n",
       "<tr>\n",
       "  <th>Prob(Omnibus):</th> <td> 0.000</td> <th>  Jarque-Bera (JB):  </th> <td>1086.130</td> \n",
       "</tr>\n",
       "<tr>\n",
       "  <th>Skew:</th>          <td> 0.506</td> <th>  Prob(JB):          </th> <td>1.41e-236</td>\n",
       "</tr>\n",
       "<tr>\n",
       "  <th>Kurtosis:</th>      <td>12.114</td> <th>  Cond. No.          </th> <td>     inf</td> \n",
       "</tr>\n",
       "</table>"
      ],
      "text/plain": [
       "<class 'statsmodels.iolib.summary.Summary'>\n",
       "\"\"\"\n",
       "                            OLS Regression Results                            \n",
       "==============================================================================\n",
       "Dep. Variable:      energy_star_score   R-squared:                       0.837\n",
       "Model:                            OLS   Adj. R-squared:                  0.832\n",
       "Method:                 Least Squares   F-statistic:                     171.2\n",
       "Date:                Mon, 20 Mar 2017   Prob (F-statistic):          1.32e-112\n",
       "Time:                        11:31:59   Log-Likelihood:                -1259.0\n",
       "No. Observations:                 310   AIC:                             2538.\n",
       "Df Residuals:                     300   BIC:                             2575.\n",
       "Df Model:                           9                                         \n",
       "Covariance Type:            nonrobust                                         \n",
       "===========================================================================================================\n",
       "                                              coef    std err          t      P>|t|      [95.0% Conf. Int.]\n",
       "-----------------------------------------------------------------------------------------------------------\n",
       "building_floor_area                      8.273e-05   6.67e-06     12.406      0.000      6.96e-05  9.59e-05\n",
       "weather_normalized_site_eui                 0.3513      0.065      5.412      0.000         0.224     0.479\n",
       "weather_normalized_source_eui              -0.3998      0.029    -13.760      0.000        -0.457    -0.343\n",
       "water_use                                  -0.0031      0.001     -6.130      0.000        -0.004    -0.002\n",
       "EMV_TOTAL                               -6.178e-07   2.19e-07     -2.816      0.005     -1.05e-06 -1.86e-07\n",
       "year_built_adjusted                         0.0540      0.031      1.734      0.084        -0.007     0.115\n",
       "est_val_per_sqft                           -0.5234      0.337     -1.554      0.121        -1.186     0.139\n",
       "tax_per_sqft                               20.9382      8.091      2.588      0.010         5.015    36.861\n",
       "Intercept                                  93.7733      4.574     20.499      0.000        84.771   102.775\n",
       "USE1_DESC[T.Condo Garage/Miscellaneous]    -2.5550      2.860     -0.893      0.372        -8.183     3.073\n",
       "USE1_DESC[T.Cooperative]                         0          0        nan        nan             0         0\n",
       "USE1_DESC[T.Industrial]                          0          0        nan        nan             0         0\n",
       "USE1_DESC[T.Other]                               0          0        nan        nan             0         0\n",
       "==============================================================================\n",
       "Omnibus:                       75.488   Durbin-Watson:                   1.761\n",
       "Prob(Omnibus):                  0.000   Jarque-Bera (JB):             1086.130\n",
       "Skew:                           0.506   Prob(JB):                    1.41e-236\n",
       "Kurtosis:                      12.114   Cond. No.                          inf\n",
       "==============================================================================\n",
       "\n",
       "Warnings:\n",
       "[1] Standard Errors assume that the covariance matrix of the errors is correctly specified.\n",
       "[2] The smallest eigenvalue is      0. This might indicate that there are\n",
       "strong multicollinearity problems or that the design matrix is singular.\n",
       "\"\"\""
      ]
     },
     "execution_count": 46,
     "metadata": {},
     "output_type": "execute_result"
    }
   ],
   "source": [
    "# Fit regression model \n",
    "\n",
    "results = sm.OLS(y,X).fit()\n",
    "# Inspect the results\n",
    "results.summary()"
   ]
  },
  {
   "cell_type": "code",
   "execution_count": 47,
   "metadata": {
    "collapsed": false
   },
   "outputs": [
    {
     "data": {
      "text/plain": [
       "<matplotlib.axes._subplots.AxesSubplot at 0x113d7ed30>"
      ]
     },
     "execution_count": 47,
     "metadata": {},
     "output_type": "execute_result"
    },
    {
     "data": {
      "image/png": "[encoded data removed]",
      "text/plain": [
       "<matplotlib.figure.Figure at 0x113d7e4a8>"
      ]
     },
     "metadata": {},
     "output_type": "display_data"
    }
   ],
   "source": [
    "# Plot the residuals\n",
    "\n",
    "results.resid.plot(style='o')"
   ]
  },
  {
   "cell_type": "code",
   "execution_count": 57,
   "metadata": {
    "collapsed": false
   },
   "outputs": [
    {
     "name": "stdout",
     "output_type": "stream",
     "text": [
      "count    310.000000\n",
      "mean      59.438710\n",
      "std       34.845212\n",
      "min        2.000000\n",
      "25%       16.000000\n",
      "50%       78.000000\n",
      "75%       89.000000\n",
      "max      100.000000\n",
      "Name: energy_star_score, dtype: float64\n",
      "Outliers: 0\n",
      "Normal?: No\n",
      "Jarque-Bera: 45.170635934660844\n",
      "Chi^2 two-tail prob.: 1.55353497396e-10\n",
      "Skew: -0.3584948480591239\n",
      "Kurtosis: 1.2728615378679273\n",
      "\n",
      "\n",
      "count    3.100000e+02\n",
      "mean     3.636784e+05\n",
      "std      3.139653e+05\n",
      "min      4.700000e+04\n",
      "25%      1.738570e+05\n",
      "50%      1.738570e+05\n",
      "75%      4.445410e+05\n",
      "max      1.235912e+06\n",
      "Name: building_floor_area, dtype: float64\n",
      "Outliers: 0\n",
      "Normal?: No\n",
      "Jarque-Bera: 74.16631980315486\n",
      "Chi^2 two-tail prob.: 7.85214450096e-17\n",
      "Skew: 1.1977747094106865\n",
      "Kurtosis: 3.0570229068554817\n",
      "\n",
      "\n",
      "count    310.000000\n",
      "mean     111.019355\n",
      "std       37.861948\n",
      "min        0.000000\n",
      "25%       74.250000\n",
      "50%      112.000000\n",
      "75%      149.000000\n",
      "max      209.000000\n",
      "Name: weather_normalized_site_eui, dtype: float64\n",
      "Outliers: 0\n",
      "Normal?: No\n",
      "Jarque-Bera: 11.230695851096149\n",
      "Chi^2 two-tail prob.: 0.00364154249203\n",
      "Skew: -0.17266141697007212\n",
      "Kurtosis: 2.133844489978165\n",
      "\n",
      "\n",
      "count    310.000000\n",
      "mean     229.551613\n",
      "std       79.304270\n",
      "min        0.000000\n",
      "25%      163.000000\n",
      "50%      199.000000\n",
      "75%      317.000000\n",
      "max      438.000000\n",
      "Name: weather_normalized_source_eui, dtype: float64\n",
      "Outliers: 0\n",
      "Normal?: No\n",
      "Jarque-Bera: 11.864429342411599\n",
      "Chi^2 two-tail prob.: 0.00265260084007\n",
      "Skew: 0.14807077552105516\n",
      "Kurtosis: 2.0884975880638956\n",
      "\n",
      "\n",
      "count      310.000000\n",
      "mean      5652.593548\n",
      "std       3345.057720\n",
      "min          0.000000\n",
      "25%       4749.250000\n",
      "50%       5626.000000\n",
      "75%       5626.000000\n",
      "max      19436.000000\n",
      "Name: water_use, dtype: float64\n",
      "Outliers: 2\n",
      "Normal?: No\n",
      "Jarque-Bera: 34.0486046764666\n",
      "Chi^2 two-tail prob.: 4.04054023965e-08\n",
      "Skew: 0.7556404193427908\n",
      "Kurtosis: 3.5933390546998596\n",
      "\n",
      "\n",
      "count    3.100000e+02\n",
      "mean     2.112821e+06\n",
      "std      6.009252e+06\n",
      "min      0.000000e+00\n",
      "25%      8.500000e+03\n",
      "50%      9.500000e+03\n",
      "75%      4.800000e+05\n",
      "max      5.833000e+07\n",
      "Name: EMV_TOTAL, dtype: float64\n",
      "Outliers: 6\n",
      "Normal?: No\n",
      "Jarque-Bera: 16882.804256555708\n",
      "Chi^2 two-tail prob.: 0.0\n",
      "Skew: 5.161657645579892\n",
      "Kurtosis: 37.648015452693265\n",
      "\n",
      "\n",
      "count    310.000000\n",
      "mean      89.751613\n",
      "std       42.354563\n",
      "min        5.000000\n",
      "25%       37.000000\n",
      "50%      125.000000\n",
      "75%      125.000000\n",
      "max      129.000000\n",
      "Name: year_built_adjusted, dtype: float64\n",
      "Outliers: 0\n",
      "Normal?: No\n",
      "Jarque-Bera: 43.399338983937525\n",
      "Chi^2 two-tail prob.: 3.76663277029e-10\n",
      "Skew: -0.5831718481339484\n",
      "Kurtosis: 1.5859309752564956\n",
      "\n",
      "\n",
      "count    310.000000\n",
      "mean      10.132367\n",
      "std       20.805478\n",
      "min        0.000000\n",
      "25%        0.015747\n",
      "50%        0.054643\n",
      "75%        1.929407\n",
      "max       83.636364\n",
      "Name: est_val_per_sqft, dtype: float64\n",
      "Outliers: 7\n",
      "Normal?: No\n",
      "Jarque-Bera: 305.62183919209434\n",
      "Chi^2 two-tail prob.: 4.31579537103e-67\n",
      "Skew: 1.9964309771644535\n",
      "Kurtosis: 5.778146689529652\n",
      "\n",
      "\n",
      "count    310.000000\n",
      "mean       0.432657\n",
      "std        0.881636\n",
      "min        0.000138\n",
      "25%        0.000310\n",
      "50%        0.001058\n",
      "75%        0.137560\n",
      "max        3.560070\n",
      "Name: tax_per_sqft, dtype: float64\n",
      "Outliers: 8\n",
      "Normal?: No\n",
      "Jarque-Bera: 313.4796484416478\n",
      "Chi^2 two-tail prob.: 8.48709857519e-69\n",
      "Skew: 2.011383500809127\n",
      "Kurtosis: 5.843719006531619\n",
      "\n",
      "\n",
      "count    310.0\n",
      "mean       1.0\n",
      "std        0.0\n",
      "min        1.0\n",
      "25%        1.0\n",
      "50%        1.0\n",
      "75%        1.0\n",
      "max        1.0\n",
      "Name: Intercept, dtype: float64\n",
      "Outliers: 0\n",
      "Normal?: No\n",
      "Jarque-Bera: 116.25\n",
      "Chi^2 two-tail prob.: 5.70996228088e-26\n",
      "Skew: 0.0\n",
      "Kurtosis: 0.0\n",
      "\n",
      "\n",
      "count    310.000000\n",
      "mean       0.625806\n",
      "std        0.484696\n",
      "min        0.000000\n",
      "25%        0.000000\n",
      "50%        1.000000\n",
      "75%        1.000000\n",
      "max        1.000000\n",
      "Name: USE1_DESC[T.Condo Garage/Miscellaneous], dtype: float64\n",
      "Outliers: 0\n",
      "Normal?: No\n",
      "Jarque-Bera: 52.61074803012204\n",
      "Chi^2 two-tail prob.: 3.76462065626e-12\n",
      "Skew: -0.5199537839398282\n",
      "Kurtosis: 1.2703519374333454\n",
      "\n",
      "\n",
      "count    310.0\n",
      "mean       0.0\n",
      "std        0.0\n",
      "min        0.0\n",
      "25%        0.0\n",
      "50%        0.0\n",
      "75%        0.0\n",
      "max        0.0\n",
      "Name: USE1_DESC[T.Cooperative], dtype: float64\n",
      "Outliers: 0\n",
      "Normal?: No\n",
      "Jarque-Bera: 116.25\n",
      "Chi^2 two-tail prob.: 5.70996228088e-26\n",
      "Skew: 0.0\n",
      "Kurtosis: 0.0\n",
      "\n",
      "\n",
      "count    310.0\n",
      "mean       0.0\n",
      "std        0.0\n",
      "min        0.0\n",
      "25%        0.0\n",
      "50%        0.0\n",
      "75%        0.0\n",
      "max        0.0\n",
      "Name: USE1_DESC[T.Industrial], dtype: float64\n",
      "Outliers: 0\n",
      "Normal?: No\n",
      "Jarque-Bera: 116.25\n",
      "Chi^2 two-tail prob.: 5.70996228088e-26\n",
      "Skew: 0.0\n",
      "Kurtosis: 0.0\n",
      "\n",
      "\n",
      "count    310.0\n",
      "mean       0.0\n",
      "std        0.0\n",
      "min        0.0\n",
      "25%        0.0\n",
      "50%        0.0\n",
      "75%        0.0\n",
      "max        0.0\n",
      "Name: USE1_DESC[T.Other], dtype: float64\n",
      "Outliers: 0\n",
      "Normal?: No\n",
      "Jarque-Bera: 116.25\n",
      "Chi^2 two-tail prob.: 5.70996228088e-26\n",
      "Skew: 0.0\n",
      "Kurtosis: 0.0\n",
      "\n",
      "\n"
     ]
    }
   ],
   "source": [
    "for col in subset_df.columns:\n",
    "    univariate_analysis(subset_df[col])"
   ]
  },
  {
   "cell_type": "code",
   "execution_count": 85,
   "metadata": {
    "collapsed": false
   },
   "outputs": [
    {
     "data": {
      "image/png": "[encoded data removed]",
      "text/plain": [
       "<matplotlib.figure.Figure at 0x11507c6a0>"
      ]
     },
     "metadata": {},
     "output_type": "display_data"
    }
   ],
   "source": [
    "# Attempted a Boxcox transformation?\n",
    "\n",
    "fig = plt.figure()\n",
    "ax1 = fig.add_subplot(211)\n",
    "x = df['energy_star_score']\n",
    "prob = stats.probplot(x, dist=stats.norm, plot=ax1)\n",
    "ax1.set_xlabel('')\n",
    "ax1.set_title('Probplot Before and After Boxcox Transformation')\n",
    "\n",
    "ax2 = fig.add_subplot(212)\n",
    "xt, _ = stats.boxcox(x)\n",
    "prob2 = stats.probplot(xt, dist=stats.norm, plot=ax2)\n",
    "\n",
    "plt.show()"
   ]
  },
  {
   "cell_type": "code",
   "execution_count": null,
   "metadata": {
    "collapsed": true
   },
   "outputs": [],
   "source": [
    "def variable_diagnostics(var):\n",
    "    # Normality of the residuals, Jarque-Bera test\n",
    "    name = ['Jarque-Bera', 'Chi^2 two-tail prob.', 'Skew', 'Kurtosis']\n",
    "    test = sms.jarque_bera(results.resid)\n",
    "    lzip(name, test)\n",
    "    \n",
    "    # Influence\n",
    "    test_class = OLSInfluence(results)\n",
    "    test_class.dfbetas[:5,:]\n",
    "    \n",
    "    # Multicolinearity, conditional number\n",
    "    np.linalg.cond(results.model.exog)\n",
    "    \n",
    "    # Heteroskedasticity, Breush-Pagan test:    \n",
    "    name = ['Lagrange multiplier statistic', 'p-value', \n",
    "            'f-value', 'f p-value']\n",
    "    test = sms.het_breushpagan(results.resid, results.model.exog)\n",
    "    lzip(name, test)\n",
    "    \n",
    "    # Linearity, \n",
    "    name = ['t value', 'p value']\n",
    "    test = sms.linear_harvey_collier(results)\n",
    "    lzip(name, test)"
   ]
  },
  {
   "cell_type": "code",
   "execution_count": null,
   "metadata": {
    "collapsed": true
   },
   "outputs": [],
   "source": [
    "def diagnostic_plot(x, y):\n",
    "    plt.figure(figsize=(20,5))\n",
    "    \n",
    "    rgr = LinearRegression()\n",
    "    rgr.fit(x.reshape(s,1),y)\n",
    "    pred = rgr.predict(x.reshape(s,1))\n",
    "\n",
    "    plt.subplot(1, 3, 1)\n",
    "    plt.scatter(x,y)\n",
    "    plt.plot(x, pred, color='blue',linewidth=1)\n",
    "    plt.title(\"Regression fit\")\n",
    "    \n",
    "    plt.subplot(1, 3, 2)\n",
    "    res = y - pred\n",
    "    plt.scatter(pred, res)\n",
    "    plt.title(\"Residual plot\")\n",
    "    \n",
    "    plt.subplot(1, 3, 3)\n",
    "    z = (res-np.mean(res))/np.std(res)\n",
    "    stats.probplot(z, dist=\"norm\", plot=plt)\n",
    "    plt.title(\"Normal Q-Q plot\")"
   ]
  },
  {
   "cell_type": "code",
   "execution_count": 87,
   "metadata": {
    "collapsed": false
   },
   "outputs": [
    {
     "data": {
      "text/plain": [
       "[('Jarque-Bera', 971.6378789132256),\n",
       " ('Chi^2 two-tail prob.', 1.0268698197588122e-211),\n",
       " ('Skew', 0.5612759634012321),\n",
       " ('Kurtosis', 11.475916445889817)]"
      ]
     },
     "execution_count": 87,
     "metadata": {},
     "output_type": "execute_result"
    }
   ],
   "source": [
    "# Normality of the residuals, Jarque-Bera test\n",
    "name = ['Jarque-Bera', 'Chi^2 two-tail prob.', 'Skew', 'Kurtosis']\n",
    "test = sms.jarque_bera(results.resid)\n",
    "lzip(name, test)"
   ]
  },
  {
   "cell_type": "code",
   "execution_count": 33,
   "metadata": {
    "collapsed": false
   },
   "outputs": [
    {
     "data": {
      "text/plain": [
       "array([[  2.84559716e-02,  -4.35095860e-02,   9.62039190e-02,\n",
       "          4.81928515e-02,   2.77402290e-01,   3.27692382e-02,\n",
       "         -1.05068823e-01,   3.83191906e-02,  -3.05637463e-02,\n",
       "         -1.14281756e-01,  -2.83588984e-02,  -1.23597917e-02,\n",
       "          1.64507171e-03],\n",
       "       [  4.23799834e-03,  -1.16026196e-03,   1.04600156e-02,\n",
       "          2.03217690e-03,  -2.90714116e-03,  -5.43034666e-03,\n",
       "          1.52776699e-03,  -4.09213422e-04,  -7.09695552e-03,\n",
       "          8.71906248e-03,   1.16350764e-02,   2.55393555e-03,\n",
       "          4.33905854e-03],\n",
       "       [ -1.01936185e-02,   1.35401324e-02,   1.04949457e-04,\n",
       "         -6.43936101e-03,  -5.74687145e-04,  -9.81639901e-04,\n",
       "          1.02617068e-01,  -1.01112672e-01,   3.85695326e-03,\n",
       "         -1.21036375e-02,   5.33074802e-02,  -2.47862555e-03,\n",
       "         -3.09340264e-02],\n",
       "       [ -2.17393177e-05,   2.88788215e-05,   2.28191033e-07,\n",
       "         -1.37355496e-05,  -1.22405229e-06,  -2.06019154e-06,\n",
       "          2.18895365e-04,  -2.15687861e-04,   8.19970172e-06,\n",
       "         -2.58320777e-05,  -3.01200675e-03,  -5.29057480e-06,\n",
       "         -6.59867096e-05],\n",
       "       [ -2.17393177e-05,   2.88788215e-05,   2.28191033e-07,\n",
       "         -1.37355496e-05,  -1.22405229e-06,  -2.06019154e-06,\n",
       "          2.18895365e-04,  -2.15687861e-04,   8.19970172e-06,\n",
       "         -2.58320777e-05,  -3.01200675e-03,  -5.29057480e-06,\n",
       "         -6.59867096e-05]])"
      ]
     },
     "execution_count": 33,
     "metadata": {},
     "output_type": "execute_result"
    }
   ],
   "source": [
    "# Influence\n",
    "test_class = OLSInfluence(results)\n",
    "test_class.dfbetas[:5,:]"
   ]
  },
  {
   "cell_type": "code",
   "execution_count": 34,
   "metadata": {
    "collapsed": false
   },
   "outputs": [
    {
     "data": {
      "text/plain": [
       "221551362.98178157"
      ]
     },
     "execution_count": 34,
     "metadata": {},
     "output_type": "execute_result"
    }
   ],
   "source": [
    "# Multicolinearity, conditional number\n",
    "np.linalg.cond(results.model.exog)"
   ]
  },
  {
   "cell_type": "code",
   "execution_count": 35,
   "metadata": {
    "collapsed": false
   },
   "outputs": [
    {
     "data": {
      "text/plain": [
       "[('Lagrange multiplier statistic', 134.85164376388929),\n",
       " ('p-value', 6.5344797494973697e-23),\n",
       " ('f-value', 16.604414796471222),\n",
       " ('f p-value', 2.0526878390211342e-28)]"
      ]
     },
     "execution_count": 35,
     "metadata": {},
     "output_type": "execute_result"
    }
   ],
   "source": [
    "# Heteroskedasticity, Breush-Pagan test:\n",
    "name = ['Lagrange multiplier statistic', 'p-value', \n",
    "            'f-value', 'f p-value']\n",
    "test = sms.het_breushpagan(results.resid, results.model.exog)\n",
    "lzip(name, test)"
   ]
  },
  {
   "cell_type": "code",
   "execution_count": 68,
   "metadata": {
    "collapsed": false
   },
   "outputs": [
    {
     "ename": "LinAlgError",
     "evalue": "Singular matrix",
     "output_type": "error",
     "traceback": [
      "\u001b[0;31m---------------------------------------------------------------------------\u001b[0m",
      "\u001b[0;31mLinAlgError\u001b[0m                               Traceback (most recent call last)",
      "\u001b[0;32m<ipython-input-68-239f988c7dd2>\u001b[0m in \u001b[0;36m<module>\u001b[0;34m()\u001b[0m\n\u001b[1;32m      1\u001b[0m \u001b[0mname\u001b[0m \u001b[0;34m=\u001b[0m \u001b[0;34m[\u001b[0m\u001b[0;34m't value'\u001b[0m\u001b[0;34m,\u001b[0m \u001b[0;34m'p value'\u001b[0m\u001b[0;34m]\u001b[0m\u001b[0;34m\u001b[0m\u001b[0m\n\u001b[0;32m----> 2\u001b[0;31m \u001b[0mtest\u001b[0m \u001b[0;34m=\u001b[0m \u001b[0msms\u001b[0m\u001b[0;34m.\u001b[0m\u001b[0mlinear_harvey_collier\u001b[0m\u001b[0;34m(\u001b[0m\u001b[0mresults\u001b[0m\u001b[0;34m)\u001b[0m\u001b[0;34m\u001b[0m\u001b[0m\n\u001b[0m\u001b[1;32m      3\u001b[0m \u001b[0mlzip\u001b[0m\u001b[0;34m(\u001b[0m\u001b[0mname\u001b[0m\u001b[0;34m,\u001b[0m \u001b[0mtest\u001b[0m\u001b[0;34m)\u001b[0m\u001b[0;34m\u001b[0m\u001b[0m\n",
      "\u001b[0;32m/Users/rosiehoyem/anaconda2/envs/py35/lib/python3.5/site-packages/statsmodels/sandbox/stats/diagnostic.py\u001b[0m in \u001b[0;36mlinear_harvey_collier\u001b[0;34m(res)\u001b[0m\n\u001b[1;32m    903\u001b[0m     \u001b[0;31m#B.H. Baltagi, Econometrics, 2011, chapter 8\u001b[0m\u001b[0;34m\u001b[0m\u001b[0;34m\u001b[0m\u001b[0m\n\u001b[1;32m    904\u001b[0m     \u001b[0;31m#but it matches Gretl and R:lmtest, pvalue at decimal=13\u001b[0m\u001b[0;34m\u001b[0m\u001b[0;34m\u001b[0m\u001b[0m\n\u001b[0;32m--> 905\u001b[0;31m     \u001b[0mrr\u001b[0m \u001b[0;34m=\u001b[0m \u001b[0mrecursive_olsresiduals\u001b[0m\u001b[0;34m(\u001b[0m\u001b[0mres\u001b[0m\u001b[0;34m,\u001b[0m \u001b[0mskip\u001b[0m\u001b[0;34m=\u001b[0m\u001b[0;36m3\u001b[0m\u001b[0;34m,\u001b[0m \u001b[0malpha\u001b[0m\u001b[0;34m=\u001b[0m\u001b[0;36m0.95\u001b[0m\u001b[0;34m)\u001b[0m\u001b[0;34m\u001b[0m\u001b[0m\n\u001b[0m\u001b[1;32m    906\u001b[0m     \u001b[0;32mfrom\u001b[0m \u001b[0mscipy\u001b[0m \u001b[0;32mimport\u001b[0m \u001b[0mstats\u001b[0m\u001b[0;34m\u001b[0m\u001b[0m\n\u001b[1;32m    907\u001b[0m \u001b[0;34m\u001b[0m\u001b[0m\n",
      "\u001b[0;32m/Users/rosiehoyem/anaconda2/envs/py35/lib/python3.5/site-packages/statsmodels/sandbox/stats/diagnostic.py\u001b[0m in \u001b[0;36mrecursive_olsresiduals\u001b[0;34m(olsresults, skip, lamda, alpha)\u001b[0m\n\u001b[1;32m   1160\u001b[0m     \u001b[0my0\u001b[0m \u001b[0;34m=\u001b[0m \u001b[0my\u001b[0m\u001b[0;34m[\u001b[0m\u001b[0;34m:\u001b[0m\u001b[0mskip\u001b[0m\u001b[0;34m]\u001b[0m\u001b[0;34m\u001b[0m\u001b[0m\n\u001b[1;32m   1161\u001b[0m     \u001b[0;31m#add Ridge to start (not in jplv\u001b[0m\u001b[0;34m\u001b[0m\u001b[0;34m\u001b[0m\u001b[0m\n\u001b[0;32m-> 1162\u001b[0;31m     \u001b[0mXTXi\u001b[0m \u001b[0;34m=\u001b[0m \u001b[0mnp\u001b[0m\u001b[0;34m.\u001b[0m\u001b[0mlinalg\u001b[0m\u001b[0;34m.\u001b[0m\u001b[0minv\u001b[0m\u001b[0;34m(\u001b[0m\u001b[0mnp\u001b[0m\u001b[0;34m.\u001b[0m\u001b[0mdot\u001b[0m\u001b[0;34m(\u001b[0m\u001b[0mx0\u001b[0m\u001b[0;34m.\u001b[0m\u001b[0mT\u001b[0m\u001b[0;34m,\u001b[0m \u001b[0mx0\u001b[0m\u001b[0;34m)\u001b[0m\u001b[0;34m+\u001b[0m\u001b[0mlamda\u001b[0m\u001b[0;34m*\u001b[0m\u001b[0mnp\u001b[0m\u001b[0;34m.\u001b[0m\u001b[0meye\u001b[0m\u001b[0;34m(\u001b[0m\u001b[0mnvars\u001b[0m\u001b[0;34m)\u001b[0m\u001b[0;34m)\u001b[0m\u001b[0;34m\u001b[0m\u001b[0m\n\u001b[0m\u001b[1;32m   1163\u001b[0m     \u001b[0mXTY\u001b[0m \u001b[0;34m=\u001b[0m \u001b[0mnp\u001b[0m\u001b[0;34m.\u001b[0m\u001b[0mdot\u001b[0m\u001b[0;34m(\u001b[0m\u001b[0mx0\u001b[0m\u001b[0;34m.\u001b[0m\u001b[0mT\u001b[0m\u001b[0;34m,\u001b[0m \u001b[0my0\u001b[0m\u001b[0;34m)\u001b[0m \u001b[0;31m#xi * y   #np.dot(xi, y)\u001b[0m\u001b[0;34m\u001b[0m\u001b[0m\n\u001b[1;32m   1164\u001b[0m     \u001b[0;31m#beta = np.linalg.solve(XTX, XTY)\u001b[0m\u001b[0;34m\u001b[0m\u001b[0;34m\u001b[0m\u001b[0m\n",
      "\u001b[0;32m/Users/rosiehoyem/anaconda2/envs/py35/lib/python3.5/site-packages/numpy/linalg/linalg.py\u001b[0m in \u001b[0;36minv\u001b[0;34m(a)\u001b[0m\n\u001b[1;32m    524\u001b[0m     \u001b[0msignature\u001b[0m \u001b[0;34m=\u001b[0m \u001b[0;34m'D->D'\u001b[0m \u001b[0;32mif\u001b[0m \u001b[0misComplexType\u001b[0m\u001b[0;34m(\u001b[0m\u001b[0mt\u001b[0m\u001b[0;34m)\u001b[0m \u001b[0;32melse\u001b[0m \u001b[0;34m'd->d'\u001b[0m\u001b[0;34m\u001b[0m\u001b[0m\n\u001b[1;32m    525\u001b[0m     \u001b[0mextobj\u001b[0m \u001b[0;34m=\u001b[0m \u001b[0mget_linalg_error_extobj\u001b[0m\u001b[0;34m(\u001b[0m\u001b[0m_raise_linalgerror_singular\u001b[0m\u001b[0;34m)\u001b[0m\u001b[0;34m\u001b[0m\u001b[0m\n\u001b[0;32m--> 526\u001b[0;31m     \u001b[0mainv\u001b[0m \u001b[0;34m=\u001b[0m \u001b[0m_umath_linalg\u001b[0m\u001b[0;34m.\u001b[0m\u001b[0minv\u001b[0m\u001b[0;34m(\u001b[0m\u001b[0ma\u001b[0m\u001b[0;34m,\u001b[0m \u001b[0msignature\u001b[0m\u001b[0;34m=\u001b[0m\u001b[0msignature\u001b[0m\u001b[0;34m,\u001b[0m \u001b[0mextobj\u001b[0m\u001b[0;34m=\u001b[0m\u001b[0mextobj\u001b[0m\u001b[0;34m)\u001b[0m\u001b[0;34m\u001b[0m\u001b[0m\n\u001b[0m\u001b[1;32m    527\u001b[0m     \u001b[0;32mreturn\u001b[0m \u001b[0mwrap\u001b[0m\u001b[0;34m(\u001b[0m\u001b[0mainv\u001b[0m\u001b[0;34m.\u001b[0m\u001b[0mastype\u001b[0m\u001b[0;34m(\u001b[0m\u001b[0mresult_t\u001b[0m\u001b[0;34m,\u001b[0m \u001b[0mcopy\u001b[0m\u001b[0;34m=\u001b[0m\u001b[0;32mFalse\u001b[0m\u001b[0;34m)\u001b[0m\u001b[0;34m)\u001b[0m\u001b[0;34m\u001b[0m\u001b[0m\n\u001b[1;32m    528\u001b[0m \u001b[0;34m\u001b[0m\u001b[0m\n",
      "\u001b[0;32m/Users/rosiehoyem/anaconda2/envs/py35/lib/python3.5/site-packages/numpy/linalg/linalg.py\u001b[0m in \u001b[0;36m_raise_linalgerror_singular\u001b[0;34m(err, flag)\u001b[0m\n\u001b[1;32m     88\u001b[0m \u001b[0;34m\u001b[0m\u001b[0m\n\u001b[1;32m     89\u001b[0m \u001b[0;32mdef\u001b[0m \u001b[0m_raise_linalgerror_singular\u001b[0m\u001b[0;34m(\u001b[0m\u001b[0merr\u001b[0m\u001b[0;34m,\u001b[0m \u001b[0mflag\u001b[0m\u001b[0;34m)\u001b[0m\u001b[0;34m:\u001b[0m\u001b[0;34m\u001b[0m\u001b[0m\n\u001b[0;32m---> 90\u001b[0;31m     \u001b[0;32mraise\u001b[0m \u001b[0mLinAlgError\u001b[0m\u001b[0;34m(\u001b[0m\u001b[0;34m\"Singular matrix\"\u001b[0m\u001b[0;34m)\u001b[0m\u001b[0;34m\u001b[0m\u001b[0m\n\u001b[0m\u001b[1;32m     91\u001b[0m \u001b[0;34m\u001b[0m\u001b[0m\n\u001b[1;32m     92\u001b[0m \u001b[0;32mdef\u001b[0m \u001b[0m_raise_linalgerror_nonposdef\u001b[0m\u001b[0;34m(\u001b[0m\u001b[0merr\u001b[0m\u001b[0;34m,\u001b[0m \u001b[0mflag\u001b[0m\u001b[0;34m)\u001b[0m\u001b[0;34m:\u001b[0m\u001b[0;34m\u001b[0m\u001b[0m\n",
      "\u001b[0;31mLinAlgError\u001b[0m: Singular matrix"
     ]
    }
   ],
   "source": [
    "name = ['t value', 'p value']\n",
    "test = sms.linear_harvey_collier(results)\n",
    "lzip(name, test)"
   ]
  },
  {
   "cell_type": "code",
   "execution_count": 53,
   "metadata": {
    "collapsed": true
   },
   "outputs": [],
   "source": [
    "with open('../data/processed/0202_all_data_transf.pkl', 'wb') as picklefile:\n",
    "    pickle.dump(df, picklefile)"
   ]
  },
  {
   "cell_type": "code",
   "execution_count": null,
   "metadata": {
    "collapsed": true
   },
   "outputs": [],
   "source": [
    "# Univariate regression analysis\n",
    "\n",
    "import statsmodels.api as sm\n",
    "import pandas as pd\n",
    "import numpy as np\n",
    "\n",
    "df = pd.DataFrame({\n",
    "  'y': np.random.randn(20),\n",
    "  'x1': np.random.randn(20), \n",
    "  'x2': np.random.randn(20),\n",
    "  'grp': ['a', 'b'] * 10})\n",
    "\n",
    "def ols_res(x, y):\n",
    "    return pd.Series(sm.OLS(y, x).fit().predict())\n",
    "\n",
    "df.groupby('grp').apply(lambda x : x[['x1', 'x2']].apply(ols_res, y=x['y']))"
   ]
  },
  {
   "cell_type": "code",
   "execution_count": 67,
   "metadata": {
    "collapsed": false
   },
   "outputs": [
    {
     "data": {
      "text/plain": [
       "count    390.000000\n",
       "mean      62.223077\n",
       "std       33.755266\n",
       "min        1.000000\n",
       "25%       16.000000\n",
       "50%       82.000000\n",
       "75%       89.000000\n",
       "max      100.000000\n",
       "Name: energy_star_score, dtype: float64"
      ]
     },
     "execution_count": 67,
     "metadata": {},
     "output_type": "execute_result"
    }
   ],
   "source": [
    "df['energy_star_score'].describe()"
   ]
  },
  {
   "cell_type": "code",
   "execution_count": 106,
   "metadata": {
    "collapsed": false
   },
   "outputs": [],
   "source": [
    "def univariate_analysis(series):\n",
    "    print(series.describe())\n",
    "    print(\"Outliers: \" + str(len(outliers(series))))\n",
    "    print(\"Normal?: \")\n",
    "    univariate_plots(series)\n",
    "    \n",
    "def outliers(series):\n",
    "    std = series.std()\n",
    "    mean = series.mean()\n",
    "    low = mean - (3*std)\n",
    "    high = mean + (3*std)\n",
    "    outliers = []\n",
    "    for x in series:\n",
    "        if x < low or x > high:\n",
    "            outliers.append(x)\n",
    "    return outliers\n",
    "\n",
    "def univariate_plots(series):\n",
    "    plt.figure(figsize=(20,5))\n",
    "    \n",
    "    plt.subplot(1, 2, 1)\n",
    "    plt.hist(series)\n",
    "    plt.title(\"Histogram\")\n",
    "    \n",
    "    plt.subplot(1, 2, 2)\n",
    "    plt.boxplot(series)\n",
    "    plt.title(\"Box Plot\")\n",
    "    "
   ]
  },
  {
   "cell_type": "code",
   "execution_count": 107,
   "metadata": {
    "collapsed": false
   },
   "outputs": [
    {
     "name": "stdout",
     "output_type": "stream",
     "text": [
      "count    390.000000\n",
      "mean      62.223077\n",
      "std       33.755266\n",
      "min        1.000000\n",
      "25%       16.000000\n",
      "50%       82.000000\n",
      "75%       89.000000\n",
      "max      100.000000\n",
      "Name: energy_star_score, dtype: float64\n",
      "Outliers: 0\n"
     ]
    },
    {
     "data": {
      "image/png": "[encoded data removed]",
      "text/plain": [
       "<matplotlib.figure.Figure at 0x111acfe10>"
      ]
     },
     "metadata": {},
     "output_type": "display_data"
    }
   ],
   "source": [
    "univariate_analysis(df['energy_star_score'])"
   ]
  },
  {
   "cell_type": "code",
   "execution_count": 108,
   "metadata": {
    "collapsed": false
   },
   "outputs": [
    {
     "ename": "TypeError",
     "evalue": "pearsonr() missing 1 required positional argument: 'y'",
     "output_type": "error",
     "traceback": [
      "\u001b[0;31m---------------------------------------------------------------------------\u001b[0m",
      "\u001b[0;31mTypeError\u001b[0m                                 Traceback (most recent call last)",
      "\u001b[0;32m<ipython-input-108-8b16e8544e7a>\u001b[0m in \u001b[0;36m<module>\u001b[0;34m()\u001b[0m\n\u001b[1;32m      1\u001b[0m \u001b[0;32mfrom\u001b[0m \u001b[0mscipy\u001b[0m\u001b[0;34m.\u001b[0m\u001b[0mstats\u001b[0m \u001b[0;32mimport\u001b[0m \u001b[0mpearsonr\u001b[0m\u001b[0;34m\u001b[0m\u001b[0m\n\u001b[0;32m----> 2\u001b[0;31m \u001b[0mpearsonr\u001b[0m\u001b[0;34m(\u001b[0m\u001b[0mdf\u001b[0m\u001b[0;34m[\u001b[0m\u001b[0;34m[\u001b[0m\u001b[0;34m'energy_star_score'\u001b[0m\u001b[0;34m]\u001b[0m\u001b[0;34m]\u001b[0m\u001b[0;34m)\u001b[0m\u001b[0;34m\u001b[0m\u001b[0m\n\u001b[0m",
      "\u001b[0;31mTypeError\u001b[0m: pearsonr() missing 1 required positional argument: 'y'"
     ]
    }
   ],
   "source": [
    "from scipy.stats import pearsonr\n",
    "pearsonr(df[['energy_star_score']], )"
   ]
  },
  {
   "cell_type": "markdown",
   "metadata": {},
   "source": [
    "## Lasso Regularization"
   ]
  },
  {
   "cell_type": "code",
   "execution_count": 21,
   "metadata": {
    "collapsed": false
   },
   "outputs": [
    {
     "name": "stderr",
     "output_type": "stream",
     "text": [
      "........................................................................................................................................................................................................................................................................................................................................................................................................../Users/rosiehoyem/anaconda2/envs/py35/lib/python3.5/site-packages/sklearn/linear_model/coordinate_descent.py:484: ConvergenceWarning: Objective did not converge. You might want to increase the number of iterations. Fitting data with very small alpha may cause precision problems.\n",
      "  ConvergenceWarning)\n",
      "..........................................................................................................[Parallel(n_jobs=1)]: Done   5 out of   5 | elapsed:    0.2s finished\n"
     ]
    },
    {
     "data": {
      "text/plain": [
       "LassoCV(alphas=None, copy_X=True, cv=5, eps=0.001, fit_intercept=True,\n",
       "    max_iter=1000, n_alphas=100, n_jobs=1, normalize=False, positive=False,\n",
       "    precompute='auto', random_state=42, selection='cyclic', tol=0.0001,\n",
       "    verbose=True)"
      ]
     },
     "execution_count": 21,
     "metadata": {},
     "output_type": "execute_result"
    }
   ],
   "source": [
    "from sklearn import linear_model, preprocessing\n",
    "\n",
    "# Standardize X\n",
    "X_scaled = preprocessing.scale(X)\n",
    "\n",
    "# Create LassoCV object; set seed for reproducibility\n",
    "lasso_cv = linear_model.LassoCV(cv=5, normalize=False, verbose=True, random_state=42)\n",
    "\n",
    "# Create model\n",
    "lasso_cv.fit(X_scaled, y)"
   ]
  },
  {
   "cell_type": "code",
   "execution_count": 22,
   "metadata": {
    "collapsed": false
   },
   "outputs": [
    {
     "data": {
      "text/plain": [
       "array([ 24.81970155,  10.70087574, -29.43672455,  -9.95472227,\n",
       "        -2.81844499,   2.17837622,  -6.33178024,  13.09771025,\n",
       "         0.        ,  -1.71388459,   0.        ,   0.        ,   0.        ])"
      ]
     },
     "execution_count": 22,
     "metadata": {},
     "output_type": "execute_result"
    }
   ],
   "source": [
    "# Output coefficients of best model \n",
    "lasso_cv.coef_"
   ]
  },
  {
   "cell_type": "markdown",
   "metadata": {},
   "source": [
    "## Ridge Regularization"
   ]
  },
  {
   "cell_type": "code",
   "execution_count": 23,
   "metadata": {
    "collapsed": false
   },
   "outputs": [
    {
     "data": {
      "text/plain": [
       "RidgeCV(alphas=(0.1, 1.0, 10.0), cv=5, fit_intercept=True, gcv_mode=None,\n",
       "    normalize=False, scoring=None, store_cv_values=False)"
      ]
     },
     "execution_count": 23,
     "metadata": {},
     "output_type": "execute_result"
    }
   ],
   "source": [
    "# Ridge regularization\n",
    "\n",
    "from sklearn.linear_model import RidgeCV\n",
    "\n",
    "# Create LassoCV object; set seed for reproducibility\n",
    "ridge_cv = RidgeCV(cv=5)\n",
    "\n",
    "# Create model\n",
    "ridge_cv.fit(X_scaled, y)"
   ]
  },
  {
   "cell_type": "markdown",
   "metadata": {},
   "source": [
    "## Plots"
   ]
  },
  {
   "cell_type": "code",
   "execution_count": 58,
   "metadata": {
    "collapsed": false
   },
   "outputs": [
    {
     "data": {
      "image/png": "[encoded data removed]",
      "text/plain": [
       "<matplotlib.figure.Figure at 0x11085a358>"
      ]
     },
     "metadata": {},
     "output_type": "display_data"
    }
   ],
   "source": [
    "df2 = df[df['est_val_per_sqft'] > 1]\n",
    "# Reg Plots \n",
    "ax = sns.regplot(x=\"est_val_per_sqft\", y=\"energy_star_score\", data=df2)"
   ]
  },
  {
   "cell_type": "code",
   "execution_count": null,
   "metadata": {
    "collapsed": true
   },
   "outputs": [],
   "source": []
  }
 ],
 "metadata": {
  "anaconda-cloud": {},
  "kernelspec": {
   "display_name": "Python [conda env:py35]",
   "language": "python",
   "name": "conda-env-py35-py"
  },
  "language_info": {
   "codemirror_mode": {
    "name": "ipython",
    "version": 3
   },
   "file_extension": ".py",
   "mimetype": "text/x-python",
   "name": "python",
   "nbconvert_exporter": "python",
   "pygments_lexer": "ipython3",
   "version": "3.5.2"
  }
 },
 "nbformat": 4,
 "nbformat_minor": 1
}
