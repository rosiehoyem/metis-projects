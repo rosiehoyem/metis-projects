{
 "cells": [
  {
   "cell_type": "markdown",
   "metadata": {},
   "source": [
    "# Linear Regression"
   ]
  },
  {
   "cell_type": "code",
   "execution_count": 1,
   "metadata": {
    "collapsed": false
   },
   "outputs": [],
   "source": [
    "%matplotlib inline\n",
    "\n",
    "from __future__ import print_function\n",
    "from statsmodels.compat import lzip\n",
    "import statsmodels\n",
    "import numpy as np\n",
    "import pandas as pd\n",
    "import statsmodels.api as sm\n",
    "import statsmodels.formula.api as smf\n",
    "import statsmodels.stats.api as sms\n",
    "from sklearn.linear_model import LinearRegression\n",
    "import statsmodels.api as sm\n",
    "import matplotlib.pyplot as plt\n",
    "from scipy import stats\n",
    "from sklearn.model_selection import train_test_split\n",
    "from sklearn.metrics import mean_squared_error\n",
    "from sklearn.metrics import r2_score\n",
    "from sklearn import linear_model\n",
    "from sklearn.pipeline import make_pipeline\n",
    "from sklearn import preprocessing\n",
    "from sklearn.preprocessing import StandardScaler\n",
    "\n",
    "import json\n",
    "from pymongo import MongoClient\n",
    "from bson.objectid import ObjectId\n",
    "\n",
    "import pickle \n",
    "\n",
    "from statsmodels.stats.outliers_influence import OLSInfluence"
   ]
  },
  {
   "cell_type": "code",
   "execution_count": 2,
   "metadata": {
    "collapsed": true
   },
   "outputs": [],
   "source": [
    "def variable_diagnostics(results):\n",
    "    # Normality of the residuals, Jarque-Bera test\n",
    "    name = ['Jarque-Bera', 'Chi^2 two-tail prob.', 'Skew', 'Kurtosis']\n",
    "    test = sms.jarque_bera(results.resid)\n",
    "    lzip(name, test)\n",
    "    \n",
    "    # Influence\n",
    "    test_class = OLSInfluence(results)\n",
    "    test_class.dfbetas[:5,:]\n",
    "    \n",
    "    # Multicolinearity, conditional number\n",
    "    np.linalg.cond(results.model.exog)\n",
    "    \n",
    "    # Heteroskedasticity, Breush-Pagan test:    \n",
    "    name = ['Lagrange multiplier statistic', 'p-value', \n",
    "            'f-value', 'f p-value']\n",
    "    test = sms.het_breushpagan(results.resid, results.model.exog)\n",
    "    lzip(name, test)\n",
    "    \n",
    "    # Linearity, \n",
    "    name = ['t value', 'p value']\n",
    "    test = sms.linear_harvey_collier(results)\n",
    "    lzip(name, test)"
   ]
  },
  {
   "cell_type": "code",
   "execution_count": 47,
   "metadata": {
    "collapsed": false
   },
   "outputs": [
    {
     "name": "stdout",
     "output_type": "stream",
     "text": [
      "(1634, 33)\n"
     ]
    },
    {
     "data": {
      "text/html": [
       "<div>\n",
       "<table border=\"1\" class=\"dataframe\">\n",
       "  <thead>\n",
       "    <tr style=\"text-align: right;\">\n",
       "      <th></th>\n",
       "      <th>_id</th>\n",
       "      <th>address</th>\n",
       "      <th>annual_income</th>\n",
       "      <th>baths</th>\n",
       "      <th>beds</th>\n",
       "      <th>city</th>\n",
       "      <th>cluster</th>\n",
       "      <th>cost_square_feet</th>\n",
       "      <th>days_on_market</th>\n",
       "      <th>description_text</th>\n",
       "      <th>...</th>\n",
       "      <th>state</th>\n",
       "      <th>unit_1_beds</th>\n",
       "      <th>unit_2_beds</th>\n",
       "      <th>unit_3_beds</th>\n",
       "      <th>unit_4_beds</th>\n",
       "      <th>unit_rent</th>\n",
       "      <th>url</th>\n",
       "      <th>year_built</th>\n",
       "      <th>year_built_adjusted</th>\n",
       "      <th>zip</th>\n",
       "    </tr>\n",
       "  </thead>\n",
       "  <tbody>\n",
       "    <tr>\n",
       "      <th>0</th>\n",
       "      <td>58b5f1b0dcc9d8d448be2325</td>\n",
       "      <td>3039 Bryant Ave S</td>\n",
       "      <td>85440.0</td>\n",
       "      <td>1.0</td>\n",
       "      <td>4.0</td>\n",
       "      <td>Minneapolis</td>\n",
       "      <td>7.0</td>\n",
       "      <td>174.0</td>\n",
       "      <td>1.0</td>\n",
       "      <td>Great investment opportunity in the heart of U...</td>\n",
       "      <td>...</td>\n",
       "      <td>MN</td>\n",
       "      <td>1.0</td>\n",
       "      <td>1.0</td>\n",
       "      <td>1.0</td>\n",
       "      <td>1.0</td>\n",
       "      <td>775.0</td>\n",
       "      <td>http://www.redfin.com/MN/Minneapolis/3039-Brya...</td>\n",
       "      <td>1913.0</td>\n",
       "      <td>63.0</td>\n",
       "      <td>55408</td>\n",
       "    </tr>\n",
       "    <tr>\n",
       "      <th>1</th>\n",
       "      <td>58b5f1b0dcc9d8d448be2326</td>\n",
       "      <td>3307 29th Ave S</td>\n",
       "      <td>19704.0</td>\n",
       "      <td>2.0</td>\n",
       "      <td>3.0</td>\n",
       "      <td>Minneapolis</td>\n",
       "      <td>2.0</td>\n",
       "      <td>123.0</td>\n",
       "      <td>1.0</td>\n",
       "      <td>New windows, siding, foundation, updated bathr...</td>\n",
       "      <td>...</td>\n",
       "      <td>MN</td>\n",
       "      <td>2.0</td>\n",
       "      <td>1.0</td>\n",
       "      <td>NaN</td>\n",
       "      <td>NaN</td>\n",
       "      <td>NaN</td>\n",
       "      <td>http://www.redfin.com/MN/Minneapolis/3307-29th...</td>\n",
       "      <td>1900.0</td>\n",
       "      <td>50.0</td>\n",
       "      <td>55406</td>\n",
       "    </tr>\n",
       "    <tr>\n",
       "      <th>2</th>\n",
       "      <td>58b5f1b0dcc9d8d448be2328</td>\n",
       "      <td>3540 Bloomington Ave</td>\n",
       "      <td>74112.0</td>\n",
       "      <td>1.0</td>\n",
       "      <td>8.0</td>\n",
       "      <td>Minneapolis</td>\n",
       "      <td>0.0</td>\n",
       "      <td>59.0</td>\n",
       "      <td>3.0</td>\n",
       "      <td>great investment property , great location. Cu...</td>\n",
       "      <td>...</td>\n",
       "      <td>MN</td>\n",
       "      <td>2.0</td>\n",
       "      <td>2.0</td>\n",
       "      <td>2.0</td>\n",
       "      <td>2.0</td>\n",
       "      <td>NaN</td>\n",
       "      <td>http://www.redfin.com/MN/Minneapolis/3540-Bloo...</td>\n",
       "      <td>1928.0</td>\n",
       "      <td>78.0</td>\n",
       "      <td>55407</td>\n",
       "    </tr>\n",
       "    <tr>\n",
       "      <th>3</th>\n",
       "      <td>58b5f1b0dcc9d8d448be2329</td>\n",
       "      <td>3028 Fillmore St NE</td>\n",
       "      <td>60480.0</td>\n",
       "      <td>3.0</td>\n",
       "      <td>5.0</td>\n",
       "      <td>Minneapolis</td>\n",
       "      <td>8.0</td>\n",
       "      <td>125.0</td>\n",
       "      <td>3.0</td>\n",
       "      <td>Beautiful Audobon Park duplex that is owner oc...</td>\n",
       "      <td>...</td>\n",
       "      <td>MN</td>\n",
       "      <td>3.0</td>\n",
       "      <td>2.0</td>\n",
       "      <td>1.0</td>\n",
       "      <td>NaN</td>\n",
       "      <td>NaN</td>\n",
       "      <td>http://www.redfin.com/MN/Minneapolis/3028-Fill...</td>\n",
       "      <td>1935.0</td>\n",
       "      <td>85.0</td>\n",
       "      <td>55418</td>\n",
       "    </tr>\n",
       "    <tr>\n",
       "      <th>4</th>\n",
       "      <td>58b5f1b0dcc9d8d448be232a</td>\n",
       "      <td>3945 Van Nest Ave</td>\n",
       "      <td>49536.0</td>\n",
       "      <td>1.0</td>\n",
       "      <td>3.0</td>\n",
       "      <td>Minneapolis</td>\n",
       "      <td>1.0</td>\n",
       "      <td>120.0</td>\n",
       "      <td>3.0</td>\n",
       "      <td>This classic Minneapolis duplex is filled with...</td>\n",
       "      <td>...</td>\n",
       "      <td>MN</td>\n",
       "      <td>1.0</td>\n",
       "      <td>1.0</td>\n",
       "      <td>1.0</td>\n",
       "      <td>NaN</td>\n",
       "      <td>NaN</td>\n",
       "      <td>http://www.redfin.com/MN/Minneapolis/3945-Van-...</td>\n",
       "      <td>1891.0</td>\n",
       "      <td>41.0</td>\n",
       "      <td>55409</td>\n",
       "    </tr>\n",
       "  </tbody>\n",
       "</table>\n",
       "<p>5 rows × 33 columns</p>\n",
       "</div>"
      ],
      "text/plain": [
       "                        _id               address  annual_income  baths  beds  \\\n",
       "0  58b5f1b0dcc9d8d448be2325     3039 Bryant Ave S        85440.0    1.0   4.0   \n",
       "1  58b5f1b0dcc9d8d448be2326       3307 29th Ave S        19704.0    2.0   3.0   \n",
       "2  58b5f1b0dcc9d8d448be2328  3540 Bloomington Ave        74112.0    1.0   8.0   \n",
       "3  58b5f1b0dcc9d8d448be2329   3028 Fillmore St NE        60480.0    3.0   5.0   \n",
       "4  58b5f1b0dcc9d8d448be232a     3945 Van Nest Ave        49536.0    1.0   3.0   \n",
       "\n",
       "          city  cluster  cost_square_feet  days_on_market  \\\n",
       "0  Minneapolis      7.0             174.0             1.0   \n",
       "1  Minneapolis      2.0             123.0             1.0   \n",
       "2  Minneapolis      0.0              59.0             3.0   \n",
       "3  Minneapolis      8.0             125.0             3.0   \n",
       "4  Minneapolis      1.0             120.0             3.0   \n",
       "\n",
       "                                    description_text  ...    state  \\\n",
       "0  Great investment opportunity in the heart of U...  ...       MN   \n",
       "1  New windows, siding, foundation, updated bathr...  ...       MN   \n",
       "2  great investment property , great location. Cu...  ...       MN   \n",
       "3  Beautiful Audobon Park duplex that is owner oc...  ...       MN   \n",
       "4  This classic Minneapolis duplex is filled with...  ...       MN   \n",
       "\n",
       "   unit_1_beds unit_2_beds  unit_3_beds  unit_4_beds unit_rent  \\\n",
       "0          1.0         1.0          1.0          1.0     775.0   \n",
       "1          2.0         1.0          NaN          NaN       NaN   \n",
       "2          2.0         2.0          2.0          2.0       NaN   \n",
       "3          3.0         2.0          1.0          NaN       NaN   \n",
       "4          1.0         1.0          1.0          NaN       NaN   \n",
       "\n",
       "                                                 url  year_built  \\\n",
       "0  http://www.redfin.com/MN/Minneapolis/3039-Brya...      1913.0   \n",
       "1  http://www.redfin.com/MN/Minneapolis/3307-29th...      1900.0   \n",
       "2  http://www.redfin.com/MN/Minneapolis/3540-Bloo...      1928.0   \n",
       "3  http://www.redfin.com/MN/Minneapolis/3028-Fill...      1935.0   \n",
       "4  http://www.redfin.com/MN/Minneapolis/3945-Van-...      1891.0   \n",
       "\n",
       "   year_built_adjusted    zip  \n",
       "0                 63.0  55408  \n",
       "1                 50.0  55406  \n",
       "2                 78.0  55407  \n",
       "3                 85.0  55418  \n",
       "4                 41.0  55409  \n",
       "\n",
       "[5 rows x 33 columns]"
      ]
     },
     "execution_count": 47,
     "metadata": {},
     "output_type": "execute_result"
    }
   ],
   "source": [
    "# Import cleaned listing data\n",
    "\n",
    "client = MongoClient()\n",
    "db = client.property_investor\n",
    "listings = db.listings\n",
    "cursor = listings.find()\n",
    "df = pd.DataFrame(list(cursor))\n",
    "\n",
    "print(df.shape)\n",
    "df.head()"
   ]
  },
  {
   "cell_type": "code",
   "execution_count": 48,
   "metadata": {
    "collapsed": true
   },
   "outputs": [],
   "source": [
    "df['year_built'] = df['year_built'] - 1850"
   ]
  },
  {
   "cell_type": "code",
   "execution_count": 49,
   "metadata": {
    "collapsed": true
   },
   "outputs": [],
   "source": [
    "df['income_ratio'] = df['annual_income']/df['price']"
   ]
  },
  {
   "cell_type": "code",
   "execution_count": 50,
   "metadata": {
    "collapsed": false
   },
   "outputs": [
    {
     "name": "stdout",
     "output_type": "stream",
     "text": [
      "<class 'pandas.core.frame.DataFrame'>\n",
      "RangeIndex: 1634 entries, 0 to 1633\n",
      "Data columns (total 34 columns):\n",
      "_id                    1634 non-null object\n",
      "address                1601 non-null object\n",
      "annual_income          1634 non-null float64\n",
      "baths                  1497 non-null float64\n",
      "beds                   1606 non-null float64\n",
      "city                   1633 non-null object\n",
      "cluster                391 non-null float64\n",
      "cost_square_feet       601 non-null float64\n",
      "days_on_market         1562 non-null float64\n",
      "description_text       391 non-null object\n",
      "hoa_per_month          0 non-null float64\n",
      "latitude               1633 non-null float64\n",
      "location               1632 non-null object\n",
      "longitude              1633 non-null float64\n",
      "lot_size               1373 non-null float64\n",
      "mls_num                1634 non-null object\n",
      "monthly_rents          1634 non-null float64\n",
      "num_units              1492 non-null float64\n",
      "price                  1535 non-null float64\n",
      "property_type          1633 non-null object\n",
      "rent_index             1634 non-null float64\n",
      "source                 1633 non-null object\n",
      "square_feet            601 non-null float64\n",
      "state                  1633 non-null object\n",
      "unit_1_beds            1485 non-null float64\n",
      "unit_2_beds            1485 non-null float64\n",
      "unit_3_beds            739 non-null float64\n",
      "unit_4_beds            334 non-null float64\n",
      "unit_rent              70 non-null float64\n",
      "url                    1633 non-null object\n",
      "year_built             1410 non-null float64\n",
      "year_built_adjusted    1410 non-null float64\n",
      "zip                    1634 non-null object\n",
      "income_ratio           1535 non-null float64\n",
      "dtypes: float64(23), object(11)\n",
      "memory usage: 434.1+ KB\n"
     ]
    }
   ],
   "source": [
    "df.info()"
   ]
  },
  {
   "cell_type": "code",
   "execution_count": 51,
   "metadata": {
    "collapsed": false
   },
   "outputs": [
    {
     "data": {
      "text/plain": [
       "Index(['_id', 'address', 'annual_income', 'baths', 'beds', 'city', 'cluster',\n",
       "       'cost_square_feet', 'days_on_market', 'description_text',\n",
       "       'hoa_per_month', 'latitude', 'location', 'longitude', 'lot_size',\n",
       "       'mls_num', 'monthly_rents', 'num_units', 'price', 'property_type',\n",
       "       'rent_index', 'source', 'square_feet', 'state', 'unit_1_beds',\n",
       "       'unit_2_beds', 'unit_3_beds', 'unit_4_beds', 'unit_rent', 'url',\n",
       "       'year_built', 'year_built_adjusted', 'zip', 'income_ratio'],\n",
       "      dtype='object')"
      ]
     },
     "execution_count": 51,
     "metadata": {},
     "output_type": "execute_result"
    }
   ],
   "source": [
    "df.columns"
   ]
  },
  {
   "cell_type": "code",
   "execution_count": 121,
   "metadata": {
    "collapsed": true
   },
   "outputs": [],
   "source": [
    "subset = ['price', 'lot_size',\\\n",
    "          'num_units', 'square_feet']"
   ]
  },
  {
   "cell_type": "code",
   "execution_count": 122,
   "metadata": {
    "collapsed": false
   },
   "outputs": [
    {
     "name": "stdout",
     "output_type": "stream",
     "text": [
      "<class 'pandas.core.frame.DataFrame'>\n",
      "RangeIndex: 1634 entries, 0 to 1633\n",
      "Data columns (total 4 columns):\n",
      "price          1535 non-null float64\n",
      "lot_size       1373 non-null float64\n",
      "num_units      1492 non-null float64\n",
      "square_feet    601 non-null float64\n",
      "dtypes: float64(4)\n",
      "memory usage: 51.1 KB\n"
     ]
    }
   ],
   "source": [
    "df_subset = df[subset]\n",
    "df_subset.info()"
   ]
  },
  {
   "cell_type": "code",
   "execution_count": 123,
   "metadata": {
    "collapsed": false
   },
   "outputs": [
    {
     "name": "stdout",
     "output_type": "stream",
     "text": [
      "<class 'pandas.core.frame.DataFrame'>\n",
      "Int64Index: 411 entries, 0 to 1633\n",
      "Data columns (total 4 columns):\n",
      "price          411 non-null float64\n",
      "lot_size       411 non-null float64\n",
      "num_units      411 non-null float64\n",
      "square_feet    411 non-null float64\n",
      "dtypes: float64(4)\n",
      "memory usage: 16.1 KB\n"
     ]
    }
   ],
   "source": [
    "df_subset = df_subset.dropna()\n",
    "df_subset.info()"
   ]
  },
  {
   "cell_type": "code",
   "execution_count": 124,
   "metadata": {
    "collapsed": false
   },
   "outputs": [],
   "source": [
    "model_df = df_subset[np.abs(df_subset.price-df_subset.price.mean())<=(3*df_subset.price.std())]"
   ]
  },
  {
   "cell_type": "code",
   "execution_count": 125,
   "metadata": {
    "collapsed": false
   },
   "outputs": [],
   "source": [
    "# Add Dummies\n",
    "# dummies = ['city']\n",
    "# model_df = pd.get_dummies(df_subset, columns=dummies, drop_first=True)\n",
    "# model_df['Intercept'] = 1"
   ]
  },
  {
   "cell_type": "code",
   "execution_count": 126,
   "metadata": {
    "collapsed": false
   },
   "outputs": [
    {
     "data": {
      "text/html": [
       "<div>\n",
       "<table border=\"1\" class=\"dataframe\">\n",
       "  <thead>\n",
       "    <tr style=\"text-align: right;\">\n",
       "      <th></th>\n",
       "      <th>price</th>\n",
       "      <th>lot_size</th>\n",
       "      <th>num_units</th>\n",
       "      <th>square_feet</th>\n",
       "    </tr>\n",
       "  </thead>\n",
       "  <tbody>\n",
       "    <tr>\n",
       "      <th>price</th>\n",
       "      <td>1.000000</td>\n",
       "      <td>-0.001759</td>\n",
       "      <td>0.371662</td>\n",
       "      <td>0.240673</td>\n",
       "    </tr>\n",
       "    <tr>\n",
       "      <th>lot_size</th>\n",
       "      <td>-0.001759</td>\n",
       "      <td>1.000000</td>\n",
       "      <td>-0.025398</td>\n",
       "      <td>-0.003014</td>\n",
       "    </tr>\n",
       "    <tr>\n",
       "      <th>num_units</th>\n",
       "      <td>0.371662</td>\n",
       "      <td>-0.025398</td>\n",
       "      <td>1.000000</td>\n",
       "      <td>0.417249</td>\n",
       "    </tr>\n",
       "    <tr>\n",
       "      <th>square_feet</th>\n",
       "      <td>0.240673</td>\n",
       "      <td>-0.003014</td>\n",
       "      <td>0.417249</td>\n",
       "      <td>1.000000</td>\n",
       "    </tr>\n",
       "  </tbody>\n",
       "</table>\n",
       "</div>"
      ],
      "text/plain": [
       "                price  lot_size  num_units  square_feet\n",
       "price        1.000000 -0.001759   0.371662     0.240673\n",
       "lot_size    -0.001759  1.000000  -0.025398    -0.003014\n",
       "num_units    0.371662 -0.025398   1.000000     0.417249\n",
       "square_feet  0.240673 -0.003014   0.417249     1.000000"
      ]
     },
     "execution_count": 126,
     "metadata": {},
     "output_type": "execute_result"
    }
   ],
   "source": [
    "df_corr = model_df.corr()\n",
    "df_corr"
   ]
  },
  {
   "cell_type": "code",
   "execution_count": 127,
   "metadata": {
    "collapsed": false
   },
   "outputs": [
    {
     "data": {
      "text/plain": [
       "price          1.000000\n",
       "num_units      0.371662\n",
       "square_feet    0.240673\n",
       "lot_size      -0.001759\n",
       "Name: price, dtype: float64"
      ]
     },
     "execution_count": 127,
     "metadata": {},
     "output_type": "execute_result"
    }
   ],
   "source": [
    "df_corr['price'].sort_values(ascending = False)"
   ]
  },
  {
   "cell_type": "markdown",
   "metadata": {},
   "source": [
    "## OLS"
   ]
  },
  {
   "cell_type": "code",
   "execution_count": 128,
   "metadata": {
    "collapsed": false
   },
   "outputs": [],
   "source": [
    "# Fit regression model\n",
    "X = model_df.ix[:,1:]\n",
    "y = model_df['price']"
   ]
  },
  {
   "cell_type": "code",
   "execution_count": 129,
   "metadata": {
    "collapsed": false
   },
   "outputs": [
    {
     "data": {
      "text/html": [
       "<table class=\"simpletable\">\n",
       "<caption>OLS Regression Results</caption>\n",
       "<tr>\n",
       "  <th>Dep. Variable:</th>          <td>price</td>      <th>  R-squared:         </th> <td>   0.542</td> \n",
       "</tr>\n",
       "<tr>\n",
       "  <th>Model:</th>                   <td>OLS</td>       <th>  Adj. R-squared:    </th> <td>   0.539</td> \n",
       "</tr>\n",
       "<tr>\n",
       "  <th>Method:</th>             <td>Least Squares</td>  <th>  F-statistic:       </th> <td>   158.0</td> \n",
       "</tr>\n",
       "<tr>\n",
       "  <th>Date:</th>             <td>Thu, 09 Mar 2017</td> <th>  Prob (F-statistic):</th> <td>1.57e-67</td> \n",
       "</tr>\n",
       "<tr>\n",
       "  <th>Time:</th>                 <td>16:27:31</td>     <th>  Log-Likelihood:    </th> <td> -5807.3</td> \n",
       "</tr>\n",
       "<tr>\n",
       "  <th>No. Observations:</th>      <td>   403</td>      <th>  AIC:               </th> <td>1.162e+04</td>\n",
       "</tr>\n",
       "<tr>\n",
       "  <th>Df Residuals:</th>          <td>   400</td>      <th>  BIC:               </th> <td>1.163e+04</td>\n",
       "</tr>\n",
       "<tr>\n",
       "  <th>Df Model:</th>              <td>     3</td>      <th>                     </th>     <td> </td>    \n",
       "</tr>\n",
       "<tr>\n",
       "  <th>Covariance Type:</th>      <td>nonrobust</td>    <th>                     </th>     <td> </td>    \n",
       "</tr>\n",
       "</table>\n",
       "<table class=\"simpletable\">\n",
       "<tr>\n",
       "       <td></td>          <th>coef</th>     <th>std err</th>      <th>t</th>      <th>P>|t|</th> <th>[95.0% Conf. Int.]</th> \n",
       "</tr>\n",
       "<tr>\n",
       "  <th>lot_size</th>    <td>    0.0004</td> <td>    0.004</td> <td>    0.101</td> <td> 0.919</td> <td>   -0.008     0.009</td>\n",
       "</tr>\n",
       "<tr>\n",
       "  <th>num_units</th>   <td> 1.609e+05</td> <td> 1.52e+04</td> <td>   10.579</td> <td> 0.000</td> <td> 1.31e+05  1.91e+05</td>\n",
       "</tr>\n",
       "<tr>\n",
       "  <th>square_feet</th> <td>   23.3361</td> <td>   11.517</td> <td>    2.026</td> <td> 0.043</td> <td>    0.694    45.978</td>\n",
       "</tr>\n",
       "</table>\n",
       "<table class=\"simpletable\">\n",
       "<tr>\n",
       "  <th>Omnibus:</th>       <td>67.323</td> <th>  Durbin-Watson:     </th> <td>   0.809</td>\n",
       "</tr>\n",
       "<tr>\n",
       "  <th>Prob(Omnibus):</th> <td> 0.000</td> <th>  Jarque-Bera (JB):  </th> <td>  97.676</td>\n",
       "</tr>\n",
       "<tr>\n",
       "  <th>Skew:</th>          <td> 1.116</td> <th>  Prob(JB):          </th> <td>6.17e-22</td>\n",
       "</tr>\n",
       "<tr>\n",
       "  <th>Kurtosis:</th>      <td> 3.914</td> <th>  Cond. No.          </th> <td>3.45e+06</td>\n",
       "</tr>\n",
       "</table>"
      ],
      "text/plain": [
       "<class 'statsmodels.iolib.summary.Summary'>\n",
       "\"\"\"\n",
       "                            OLS Regression Results                            \n",
       "==============================================================================\n",
       "Dep. Variable:                  price   R-squared:                       0.542\n",
       "Model:                            OLS   Adj. R-squared:                  0.539\n",
       "Method:                 Least Squares   F-statistic:                     158.0\n",
       "Date:                Thu, 09 Mar 2017   Prob (F-statistic):           1.57e-67\n",
       "Time:                        16:27:31   Log-Likelihood:                -5807.3\n",
       "No. Observations:                 403   AIC:                         1.162e+04\n",
       "Df Residuals:                     400   BIC:                         1.163e+04\n",
       "Df Model:                           3                                         \n",
       "Covariance Type:            nonrobust                                         \n",
       "===============================================================================\n",
       "                  coef    std err          t      P>|t|      [95.0% Conf. Int.]\n",
       "-------------------------------------------------------------------------------\n",
       "lot_size        0.0004      0.004      0.101      0.919        -0.008     0.009\n",
       "num_units    1.609e+05   1.52e+04     10.579      0.000      1.31e+05  1.91e+05\n",
       "square_feet    23.3361     11.517      2.026      0.043         0.694    45.978\n",
       "==============================================================================\n",
       "Omnibus:                       67.323   Durbin-Watson:                   0.809\n",
       "Prob(Omnibus):                  0.000   Jarque-Bera (JB):               97.676\n",
       "Skew:                           1.116   Prob(JB):                     6.17e-22\n",
       "Kurtosis:                       3.914   Cond. No.                     3.45e+06\n",
       "==============================================================================\n",
       "\n",
       "Warnings:\n",
       "[1] Standard Errors assume that the covariance matrix of the errors is correctly specified.\n",
       "[2] The condition number is large, 3.45e+06. This might indicate that there are\n",
       "strong multicollinearity or other numerical problems.\n",
       "\"\"\""
      ]
     },
     "execution_count": 129,
     "metadata": {},
     "output_type": "execute_result"
    }
   ],
   "source": [
    "import statsmodels.api as sm\n",
    "from sklearn.model_selection import train_test_split\n",
    "\n",
    "X_train, X_test, y_train, y_test = train_test_split(X, y, test_size=0.3, random_state=4444)\n",
    "\n",
    "results = sm.OLS(y,X).fit()\n",
    "# Inspect the results\n",
    "results.summary()"
   ]
  },
  {
   "cell_type": "code",
   "execution_count": 130,
   "metadata": {
    "collapsed": false,
    "scrolled": true
   },
   "outputs": [
    {
     "data": {
      "text/plain": [
       "<matplotlib.axes._subplots.AxesSubplot at 0x10fe796d8>"
      ]
     },
     "execution_count": 130,
     "metadata": {},
     "output_type": "execute_result"
    },
    {
     "data": {
      "image/png": "[encoded data removed]",
      "text/plain": [
       "<matplotlib.figure.Figure at 0x10fe72898>"
      ]
     },
     "metadata": {},
     "output_type": "display_data"
    }
   ],
   "source": [
    "results.resid.plot(style='o')"
   ]
  },
  {
   "cell_type": "markdown",
   "metadata": {
    "collapsed": false
   },
   "source": [
    "## Setup for one cluster"
   ]
  },
  {
   "cell_type": "code",
   "execution_count": 36,
   "metadata": {
    "collapsed": true
   },
   "outputs": [],
   "source": [
    "df_cluster1 = df[df['cluster'] == 1]"
   ]
  },
  {
   "cell_type": "code",
   "execution_count": 37,
   "metadata": {
    "collapsed": true
   },
   "outputs": [],
   "source": [
    "cluster1_subset = ['price', 'city', 'days_on_market','income_ratio',\\\n",
    "          'lot_size','num_units', 'rent_index', 'square_feet', 'year_built']"
   ]
  },
  {
   "cell_type": "code",
   "execution_count": 38,
   "metadata": {
    "collapsed": false
   },
   "outputs": [
    {
     "name": "stdout",
     "output_type": "stream",
     "text": [
      "<class 'pandas.core.frame.DataFrame'>\n",
      "Int64Index: 24 entries, 0 to 50\n",
      "Data columns (total 9 columns):\n",
      "price             24 non-null float64\n",
      "city              24 non-null object\n",
      "days_on_market    24 non-null float64\n",
      "income_ratio      24 non-null float64\n",
      "lot_size          24 non-null float64\n",
      "num_units         24 non-null int64\n",
      "rent_index        24 non-null float64\n",
      "square_feet       24 non-null float64\n",
      "year_built        24 non-null float64\n",
      "dtypes: float64(7), int64(1), object(1)\n",
      "memory usage: 1.9+ KB\n"
     ]
    }
   ],
   "source": [
    "df_cluster1_subset = df_cluster1[cluster1_subset]\n",
    "df_cluster1_subset = df_cluster1_subset.dropna()\n",
    "\n",
    "df_cluster1_subset.info()"
   ]
  },
  {
   "cell_type": "code",
   "execution_count": 39,
   "metadata": {
    "collapsed": true
   },
   "outputs": [],
   "source": [
    "# Add Dummies\n",
    "dummies = ['city']\n",
    "model_df_cluster1 = pd.get_dummies(df_cluster1_subset, columns=dummies, drop_first=True)\n",
    "model_df_cluster1['Intercept'] = 1"
   ]
  },
  {
   "cell_type": "code",
   "execution_count": 40,
   "metadata": {
    "collapsed": false
   },
   "outputs": [
    {
     "data": {
      "text/html": [
       "<div>\n",
       "<table border=\"1\" class=\"dataframe\">\n",
       "  <thead>\n",
       "    <tr style=\"text-align: right;\">\n",
       "      <th></th>\n",
       "      <th>price</th>\n",
       "      <th>days_on_market</th>\n",
       "      <th>income_ratio</th>\n",
       "      <th>lot_size</th>\n",
       "      <th>num_units</th>\n",
       "      <th>rent_index</th>\n",
       "      <th>square_feet</th>\n",
       "      <th>year_built</th>\n",
       "      <th>city_St. Paul</th>\n",
       "      <th>Intercept</th>\n",
       "    </tr>\n",
       "  </thead>\n",
       "  <tbody>\n",
       "    <tr>\n",
       "      <th>price</th>\n",
       "      <td>1.000000</td>\n",
       "      <td>0.261250</td>\n",
       "      <td>-0.579850</td>\n",
       "      <td>-0.163717</td>\n",
       "      <td>0.625326</td>\n",
       "      <td>0.169192</td>\n",
       "      <td>0.722205</td>\n",
       "      <td>0.603061</td>\n",
       "      <td>-0.193546</td>\n",
       "      <td>NaN</td>\n",
       "    </tr>\n",
       "    <tr>\n",
       "      <th>days_on_market</th>\n",
       "      <td>0.261250</td>\n",
       "      <td>1.000000</td>\n",
       "      <td>-0.071696</td>\n",
       "      <td>0.165935</td>\n",
       "      <td>-0.140581</td>\n",
       "      <td>-0.026111</td>\n",
       "      <td>0.176066</td>\n",
       "      <td>-0.028158</td>\n",
       "      <td>-0.061478</td>\n",
       "      <td>NaN</td>\n",
       "    </tr>\n",
       "    <tr>\n",
       "      <th>income_ratio</th>\n",
       "      <td>-0.579850</td>\n",
       "      <td>-0.071696</td>\n",
       "      <td>1.000000</td>\n",
       "      <td>0.027618</td>\n",
       "      <td>-0.248362</td>\n",
       "      <td>0.037269</td>\n",
       "      <td>-0.441416</td>\n",
       "      <td>-0.373105</td>\n",
       "      <td>-0.011627</td>\n",
       "      <td>NaN</td>\n",
       "    </tr>\n",
       "    <tr>\n",
       "      <th>lot_size</th>\n",
       "      <td>-0.163717</td>\n",
       "      <td>0.165935</td>\n",
       "      <td>0.027618</td>\n",
       "      <td>1.000000</td>\n",
       "      <td>-0.353974</td>\n",
       "      <td>0.091433</td>\n",
       "      <td>-0.106378</td>\n",
       "      <td>-0.078997</td>\n",
       "      <td>-0.012155</td>\n",
       "      <td>NaN</td>\n",
       "    </tr>\n",
       "    <tr>\n",
       "      <th>num_units</th>\n",
       "      <td>0.625326</td>\n",
       "      <td>-0.140581</td>\n",
       "      <td>-0.248362</td>\n",
       "      <td>-0.353974</td>\n",
       "      <td>1.000000</td>\n",
       "      <td>0.202883</td>\n",
       "      <td>0.622614</td>\n",
       "      <td>0.506615</td>\n",
       "      <td>-0.072357</td>\n",
       "      <td>NaN</td>\n",
       "    </tr>\n",
       "    <tr>\n",
       "      <th>rent_index</th>\n",
       "      <td>0.169192</td>\n",
       "      <td>-0.026111</td>\n",
       "      <td>0.037269</td>\n",
       "      <td>0.091433</td>\n",
       "      <td>0.202883</td>\n",
       "      <td>1.000000</td>\n",
       "      <td>-0.248049</td>\n",
       "      <td>-0.135686</td>\n",
       "      <td>-0.201020</td>\n",
       "      <td>NaN</td>\n",
       "    </tr>\n",
       "    <tr>\n",
       "      <th>square_feet</th>\n",
       "      <td>0.722205</td>\n",
       "      <td>0.176066</td>\n",
       "      <td>-0.441416</td>\n",
       "      <td>-0.106378</td>\n",
       "      <td>0.622614</td>\n",
       "      <td>-0.248049</td>\n",
       "      <td>1.000000</td>\n",
       "      <td>0.798012</td>\n",
       "      <td>0.108360</td>\n",
       "      <td>NaN</td>\n",
       "    </tr>\n",
       "    <tr>\n",
       "      <th>year_built</th>\n",
       "      <td>0.603061</td>\n",
       "      <td>-0.028158</td>\n",
       "      <td>-0.373105</td>\n",
       "      <td>-0.078997</td>\n",
       "      <td>0.506615</td>\n",
       "      <td>-0.135686</td>\n",
       "      <td>0.798012</td>\n",
       "      <td>1.000000</td>\n",
       "      <td>0.173992</td>\n",
       "      <td>NaN</td>\n",
       "    </tr>\n",
       "    <tr>\n",
       "      <th>city_St. Paul</th>\n",
       "      <td>-0.193546</td>\n",
       "      <td>-0.061478</td>\n",
       "      <td>-0.011627</td>\n",
       "      <td>-0.012155</td>\n",
       "      <td>-0.072357</td>\n",
       "      <td>-0.201020</td>\n",
       "      <td>0.108360</td>\n",
       "      <td>0.173992</td>\n",
       "      <td>1.000000</td>\n",
       "      <td>NaN</td>\n",
       "    </tr>\n",
       "    <tr>\n",
       "      <th>Intercept</th>\n",
       "      <td>NaN</td>\n",
       "      <td>NaN</td>\n",
       "      <td>NaN</td>\n",
       "      <td>NaN</td>\n",
       "      <td>NaN</td>\n",
       "      <td>NaN</td>\n",
       "      <td>NaN</td>\n",
       "      <td>NaN</td>\n",
       "      <td>NaN</td>\n",
       "      <td>NaN</td>\n",
       "    </tr>\n",
       "  </tbody>\n",
       "</table>\n",
       "</div>"
      ],
      "text/plain": [
       "                   price  days_on_market  income_ratio  lot_size  num_units  \\\n",
       "price           1.000000        0.261250     -0.579850 -0.163717   0.625326   \n",
       "days_on_market  0.261250        1.000000     -0.071696  0.165935  -0.140581   \n",
       "income_ratio   -0.579850       -0.071696      1.000000  0.027618  -0.248362   \n",
       "lot_size       -0.163717        0.165935      0.027618  1.000000  -0.353974   \n",
       "num_units       0.625326       -0.140581     -0.248362 -0.353974   1.000000   \n",
       "rent_index      0.169192       -0.026111      0.037269  0.091433   0.202883   \n",
       "square_feet     0.722205        0.176066     -0.441416 -0.106378   0.622614   \n",
       "year_built      0.603061       -0.028158     -0.373105 -0.078997   0.506615   \n",
       "city_St. Paul  -0.193546       -0.061478     -0.011627 -0.012155  -0.072357   \n",
       "Intercept            NaN             NaN           NaN       NaN        NaN   \n",
       "\n",
       "                rent_index  square_feet  year_built  city_St. Paul  Intercept  \n",
       "price             0.169192     0.722205    0.603061      -0.193546        NaN  \n",
       "days_on_market   -0.026111     0.176066   -0.028158      -0.061478        NaN  \n",
       "income_ratio      0.037269    -0.441416   -0.373105      -0.011627        NaN  \n",
       "lot_size          0.091433    -0.106378   -0.078997      -0.012155        NaN  \n",
       "num_units         0.202883     0.622614    0.506615      -0.072357        NaN  \n",
       "rent_index        1.000000    -0.248049   -0.135686      -0.201020        NaN  \n",
       "square_feet      -0.248049     1.000000    0.798012       0.108360        NaN  \n",
       "year_built       -0.135686     0.798012    1.000000       0.173992        NaN  \n",
       "city_St. Paul    -0.201020     0.108360    0.173992       1.000000        NaN  \n",
       "Intercept              NaN          NaN         NaN            NaN        NaN  "
      ]
     },
     "execution_count": 40,
     "metadata": {},
     "output_type": "execute_result"
    }
   ],
   "source": [
    "df_cluster1_corr = model_df_cluster1.corr()\n",
    "df_cluster1_corr"
   ]
  },
  {
   "cell_type": "code",
   "execution_count": 41,
   "metadata": {
    "collapsed": false
   },
   "outputs": [
    {
     "data": {
      "text/plain": [
       "price             1.000000\n",
       "square_feet       0.722205\n",
       "num_units         0.625326\n",
       "year_built        0.603061\n",
       "days_on_market    0.261250\n",
       "rent_index        0.169192\n",
       "lot_size         -0.163717\n",
       "city_St. Paul    -0.193546\n",
       "income_ratio     -0.579850\n",
       "Intercept              NaN\n",
       "Name: price, dtype: float64"
      ]
     },
     "execution_count": 41,
     "metadata": {},
     "output_type": "execute_result"
    }
   ],
   "source": [
    "df_cluster1_corr['price'].sort_values(ascending = False)"
   ]
  },
  {
   "cell_type": "markdown",
   "metadata": {},
   "source": [
    "## Cluster 1 OLS"
   ]
  },
  {
   "cell_type": "code",
   "execution_count": 42,
   "metadata": {
    "collapsed": false
   },
   "outputs": [],
   "source": [
    "# Fit regression model\n",
    "X1 = model_df_cluster1.ix[:,1:]\n",
    "y1 = model_df_cluster1['price']"
   ]
  },
  {
   "cell_type": "code",
   "execution_count": 43,
   "metadata": {
    "collapsed": false
   },
   "outputs": [
    {
     "data": {
      "text/html": [
       "<table class=\"simpletable\">\n",
       "<caption>OLS Regression Results</caption>\n",
       "<tr>\n",
       "  <th>Dep. Variable:</th>          <td>price</td>      <th>  R-squared:         </th> <td>   0.806</td>\n",
       "</tr>\n",
       "<tr>\n",
       "  <th>Model:</th>                   <td>OLS</td>       <th>  Adj. R-squared:    </th> <td>   0.702</td>\n",
       "</tr>\n",
       "<tr>\n",
       "  <th>Method:</th>             <td>Least Squares</td>  <th>  F-statistic:       </th> <td>   7.772</td>\n",
       "</tr>\n",
       "<tr>\n",
       "  <th>Date:</th>             <td>Wed, 08 Mar 2017</td> <th>  Prob (F-statistic):</th> <td>0.000372</td>\n",
       "</tr>\n",
       "<tr>\n",
       "  <th>Time:</th>                 <td>22:31:14</td>     <th>  Log-Likelihood:    </th> <td> -300.94</td>\n",
       "</tr>\n",
       "<tr>\n",
       "  <th>No. Observations:</th>      <td>    24</td>      <th>  AIC:               </th> <td>   619.9</td>\n",
       "</tr>\n",
       "<tr>\n",
       "  <th>Df Residuals:</th>          <td>    15</td>      <th>  BIC:               </th> <td>   630.5</td>\n",
       "</tr>\n",
       "<tr>\n",
       "  <th>Df Model:</th>              <td>     8</td>      <th>                     </th>     <td> </td>   \n",
       "</tr>\n",
       "<tr>\n",
       "  <th>Covariance Type:</th>      <td>nonrobust</td>    <th>                     </th>     <td> </td>   \n",
       "</tr>\n",
       "</table>\n",
       "<table class=\"simpletable\">\n",
       "<tr>\n",
       "         <td></td>           <th>coef</th>     <th>std err</th>      <th>t</th>      <th>P>|t|</th> <th>[95.0% Conf. Int.]</th> \n",
       "</tr>\n",
       "<tr>\n",
       "  <th>days_on_market</th> <td>  311.7417</td> <td>  205.410</td> <td>    1.518</td> <td> 0.150</td> <td> -126.079   749.562</td>\n",
       "</tr>\n",
       "<tr>\n",
       "  <th>income_ratio</th>   <td> -6.36e+05</td> <td> 2.74e+05</td> <td>   -2.320</td> <td> 0.035</td> <td>-1.22e+06 -5.16e+04</td>\n",
       "</tr>\n",
       "<tr>\n",
       "  <th>lot_size</th>       <td>  -11.3167</td> <td>   13.296</td> <td>   -0.851</td> <td> 0.408</td> <td>  -39.656    17.022</td>\n",
       "</tr>\n",
       "<tr>\n",
       "  <th>num_units</th>      <td> 3.578e+04</td> <td> 5.37e+04</td> <td>    0.667</td> <td> 0.515</td> <td>-7.86e+04   1.5e+05</td>\n",
       "</tr>\n",
       "<tr>\n",
       "  <th>rent_index</th>     <td> 2.715e+05</td> <td> 1.56e+05</td> <td>    1.742</td> <td> 0.102</td> <td>-6.07e+04  6.04e+05</td>\n",
       "</tr>\n",
       "<tr>\n",
       "  <th>square_feet</th>    <td>   56.5338</td> <td>   37.183</td> <td>    1.520</td> <td> 0.149</td> <td>  -22.719   135.787</td>\n",
       "</tr>\n",
       "<tr>\n",
       "  <th>year_built</th>     <td>  901.6726</td> <td> 1201.065</td> <td>    0.751</td> <td> 0.464</td> <td>-1658.338  3461.683</td>\n",
       "</tr>\n",
       "<tr>\n",
       "  <th>city_St. Paul</th>  <td>-6.049e+04</td> <td> 3.66e+04</td> <td>   -1.654</td> <td> 0.119</td> <td>-1.38e+05  1.75e+04</td>\n",
       "</tr>\n",
       "<tr>\n",
       "  <th>Intercept</th>      <td>-6.505e+04</td> <td> 1.69e+05</td> <td>   -0.386</td> <td> 0.705</td> <td>-4.25e+05  2.94e+05</td>\n",
       "</tr>\n",
       "</table>\n",
       "<table class=\"simpletable\">\n",
       "<tr>\n",
       "  <th>Omnibus:</th>       <td> 3.483</td> <th>  Durbin-Watson:     </th> <td>   1.706</td>\n",
       "</tr>\n",
       "<tr>\n",
       "  <th>Prob(Omnibus):</th> <td> 0.175</td> <th>  Jarque-Bera (JB):  </th> <td>   1.812</td>\n",
       "</tr>\n",
       "<tr>\n",
       "  <th>Skew:</th>          <td>-0.562</td> <th>  Prob(JB):          </th> <td>   0.404</td>\n",
       "</tr>\n",
       "<tr>\n",
       "  <th>Kurtosis:</th>      <td> 3.740</td> <th>  Cond. No.          </th> <td>1.02e+05</td>\n",
       "</tr>\n",
       "</table>"
      ],
      "text/plain": [
       "<class 'statsmodels.iolib.summary.Summary'>\n",
       "\"\"\"\n",
       "                            OLS Regression Results                            \n",
       "==============================================================================\n",
       "Dep. Variable:                  price   R-squared:                       0.806\n",
       "Model:                            OLS   Adj. R-squared:                  0.702\n",
       "Method:                 Least Squares   F-statistic:                     7.772\n",
       "Date:                Wed, 08 Mar 2017   Prob (F-statistic):           0.000372\n",
       "Time:                        22:31:14   Log-Likelihood:                -300.94\n",
       "No. Observations:                  24   AIC:                             619.9\n",
       "Df Residuals:                      15   BIC:                             630.5\n",
       "Df Model:                           8                                         \n",
       "Covariance Type:            nonrobust                                         \n",
       "==================================================================================\n",
       "                     coef    std err          t      P>|t|      [95.0% Conf. Int.]\n",
       "----------------------------------------------------------------------------------\n",
       "days_on_market   311.7417    205.410      1.518      0.150      -126.079   749.562\n",
       "income_ratio    -6.36e+05   2.74e+05     -2.320      0.035     -1.22e+06 -5.16e+04\n",
       "lot_size         -11.3167     13.296     -0.851      0.408       -39.656    17.022\n",
       "num_units       3.578e+04   5.37e+04      0.667      0.515     -7.86e+04   1.5e+05\n",
       "rent_index      2.715e+05   1.56e+05      1.742      0.102     -6.07e+04  6.04e+05\n",
       "square_feet       56.5338     37.183      1.520      0.149       -22.719   135.787\n",
       "year_built       901.6726   1201.065      0.751      0.464     -1658.338  3461.683\n",
       "city_St. Paul  -6.049e+04   3.66e+04     -1.654      0.119     -1.38e+05  1.75e+04\n",
       "Intercept      -6.505e+04   1.69e+05     -0.386      0.705     -4.25e+05  2.94e+05\n",
       "==============================================================================\n",
       "Omnibus:                        3.483   Durbin-Watson:                   1.706\n",
       "Prob(Omnibus):                  0.175   Jarque-Bera (JB):                1.812\n",
       "Skew:                          -0.562   Prob(JB):                        0.404\n",
       "Kurtosis:                       3.740   Cond. No.                     1.02e+05\n",
       "==============================================================================\n",
       "\n",
       "Warnings:\n",
       "[1] Standard Errors assume that the covariance matrix of the errors is correctly specified.\n",
       "[2] The condition number is large, 1.02e+05. This might indicate that there are\n",
       "strong multicollinearity or other numerical problems.\n",
       "\"\"\""
      ]
     },
     "execution_count": 43,
     "metadata": {},
     "output_type": "execute_result"
    }
   ],
   "source": [
    "import statsmodels.api as sm\n",
    "from sklearn.model_selection import train_test_split\n",
    "\n",
    "X1_train, X1_test, y1_train, y1_test = train_test_split(X1, y1, test_size=0.3, random_state=4444)\n",
    "\n",
    "results1 = sm.OLS(y1,X1).fit()\n",
    "# Inspect the results\n",
    "results1.summary()"
   ]
  },
  {
   "cell_type": "code",
   "execution_count": null,
   "metadata": {
    "collapsed": true
   },
   "outputs": [],
   "source": []
  },
  {
   "cell_type": "markdown",
   "metadata": {},
   "source": [
    "## Lasso"
   ]
  },
  {
   "cell_type": "code",
   "execution_count": 131,
   "metadata": {
    "collapsed": false
   },
   "outputs": [],
   "source": [
    "# Scale X\n",
    "\n",
    "scale = StandardScaler()\n",
    "X_scaled = scale.fit_transform(X)"
   ]
  },
  {
   "cell_type": "code",
   "execution_count": 132,
   "metadata": {
    "collapsed": false
   },
   "outputs": [
    {
     "name": "stderr",
     "output_type": "stream",
     "text": [
      "....................................................................................................................................................................................................................................................................................................................................................................................................................................................................................................................[Parallel(n_jobs=1)]: Done   5 out of   5 | elapsed:    0.1s finished\n"
     ]
    },
    {
     "data": {
      "text/plain": [
       "array([     0.        ,  88487.88410875,      0.        ])"
      ]
     },
     "execution_count": 132,
     "metadata": {},
     "output_type": "execute_result"
    }
   ],
   "source": [
    "# Create LassoCV object; set seed for reproducibility\n",
    "lasso_cv = linear_model.LassoCV(cv=5, normalize=False, verbose=True, random_state=42)\n",
    "\n",
    "# Create model\n",
    "lasso_cv.fit(X_scaled, y)\n",
    "\n",
    "# Print the coeficientents\n",
    "\n",
    "lasso_cv.coef_"
   ]
  },
  {
   "cell_type": "code",
   "execution_count": 133,
   "metadata": {
    "collapsed": false
   },
   "outputs": [
    {
     "data": {
      "text/plain": [
       "0.10391616613065581"
      ]
     },
     "execution_count": 133,
     "metadata": {},
     "output_type": "execute_result"
    }
   ],
   "source": [
    "lasso_cv.score(X_scaled, y)"
   ]
  },
  {
   "cell_type": "code",
   "execution_count": null,
   "metadata": {
    "collapsed": true
   },
   "outputs": [],
   "source": []
  },
  {
   "cell_type": "code",
   "execution_count": null,
   "metadata": {
    "collapsed": true
   },
   "outputs": [],
   "source": []
  },
  {
   "cell_type": "code",
   "execution_count": null,
   "metadata": {
    "collapsed": true
   },
   "outputs": [],
   "source": []
  }
 ],
 "metadata": {
  "anaconda-cloud": {},
  "kernelspec": {
   "display_name": "Python 3",
   "language": "python",
   "name": "python3"
  },
  "language_info": {
   "codemirror_mode": {
    "name": "ipython",
    "version": 3
   },
   "file_extension": ".py",
   "mimetype": "text/x-python",
   "name": "python",
   "nbconvert_exporter": "python",
   "pygments_lexer": "ipython3",
   "version": "3.5.2"
  }
 },
 "nbformat": 4,
 "nbformat_minor": 2
}
